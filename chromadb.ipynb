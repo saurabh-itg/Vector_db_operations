{
 "cells": [
  {
   "cell_type": "code",
   "execution_count": 1,
   "id": "387e78ae",
   "metadata": {},
   "outputs": [
    {
     "name": "stderr",
     "output_type": "stream",
     "text": [
      "USER_AGENT environment variable not set, consider setting it to identify your requests.\n"
     ]
    }
   ],
   "source": [
    "from langchain_community.document_loaders import WebBaseLoader\n",
    "\n",
    "\n",
    "url = \"https://en.wikipedia.org/wiki/Boiler_feedwater\"\n",
    "loader = WebBaseLoader(url)\n",
    "documents = loader.load()\n"
   ]
  },
  {
   "cell_type": "code",
   "execution_count": 2,
   "id": "c5332e01",
   "metadata": {},
   "outputs": [
    {
     "data": {
      "text/plain": [
       "[Document(metadata={'source': 'https://en.wikipedia.org/wiki/Boiler_feedwater', 'title': 'Boiler feedwater - Wikipedia', 'language': 'en'}, page_content='\\n\\n\\n\\nBoiler feedwater - Wikipedia\\n\\n\\n\\n\\n\\n\\n\\n\\n\\n\\n\\n\\n\\n\\n\\n\\n\\n\\n\\n\\n\\n\\n\\n\\n\\n\\n\\n\\n\\n\\n\\n\\n\\n\\n\\nJump to content\\n\\n\\n\\n\\n\\n\\n\\nMain menu\\n\\n\\n\\n\\n\\nMain menu\\nmove to sidebar\\nhide\\n\\n\\n\\n\\t\\tNavigation\\n\\t\\n\\n\\nMain pageContentsCurrent eventsRandom articleAbout WikipediaContact us\\n\\n\\n\\n\\n\\n\\t\\tContribute\\n\\t\\n\\n\\nHelpLearn to editCommunity portalRecent changesUpload fileSpecial pages\\n\\n\\n\\n\\n\\n\\n\\n\\n\\n\\n\\n\\n\\n\\n\\n\\n\\n\\n\\nSearch\\n\\n\\n\\n\\n\\n\\n\\n\\n\\n\\n\\nSearch\\n\\n\\n\\n\\n\\n\\n\\n\\n\\n\\n\\n\\n\\n\\n\\n\\n\\n\\n\\n\\n\\n\\nAppearance\\n\\n\\n\\n\\n\\n\\n\\n\\n\\n\\n\\n\\n\\n\\n\\n\\nDonate\\n\\nCreate account\\n\\nLog in\\n\\n\\n\\n\\n\\n\\n\\n\\nPersonal tools\\n\\n\\n\\n\\n\\nDonate Create account Log in\\n\\n\\n\\n\\n\\n\\t\\tPages for logged out editors learn more\\n\\n\\n\\nContributionsTalk\\n\\n\\n\\n\\n\\n\\n\\n\\n\\n\\n\\n\\n\\n\\n\\n\\n\\n\\n\\n\\n\\n\\n\\n\\n\\n\\n\\n\\nContents\\nmove to sidebar\\nhide\\n\\n\\n\\n\\n(Top)\\n\\n\\n\\n\\n\\n1\\nHistory of feedwater treatment\\n\\n\\n\\n\\n\\n\\n\\n\\n2\\nCharacteristics of boiler feedwater\\n\\n\\n\\n\\n\\n\\n\\n\\n3\\nBoiler feedwater treatment\\n\\n\\n\\n\\n\\n\\n\\n\\n4\\nDeaeration of feed water\\n\\n\\n\\n\\n\\n\\n\\n\\n5\\nConditioning\\n\\n\\n\\n\\nToggle Conditioning subsection\\n\\n\\n\\n\\n\\n5.1\\nBoiler corrosion\\n\\n\\n\\n\\n\\n\\n\\n\\n5.2\\nFouling\\n\\n\\n\\n\\n\\n\\n\\n\\n5.3\\nCaustic embrittlement\\n\\n\\n\\n\\n\\n\\n\\n\\n5.4\\nPriming and foaming\\n\\n\\n\\n\\n\\n\\n\\n\\n\\n\\n6\\nLocomotive boilers\\n\\n\\n\\n\\n\\n\\n\\n\\n7\\nSee also\\n\\n\\n\\n\\n\\n\\n\\n\\n8\\nReferences\\n\\n\\n\\n\\n\\n\\n\\n\\n9\\nExternal links\\n\\n\\n\\n\\n\\n\\n\\n\\n\\n\\n\\n\\n\\n\\n\\n\\n\\n\\nToggle the table of contents\\n\\n\\n\\n\\n\\n\\n\\nBoiler feedwater\\n\\n\\n\\n9 languages\\n\\n\\n\\n\\nDeutschΕλληνικάFrançaisHrvatskiNorsk bokmålPolskiSimple EnglishSrpskohrvatski / српскохрватскиSuomi\\n\\nEdit links\\n\\n\\n\\n\\n\\n\\n\\n\\n\\n\\n\\nArticleTalk\\n\\n\\n\\n\\n\\nEnglish\\n\\n\\n\\n\\n\\n\\n\\n\\n\\n\\n\\n\\n\\n\\n\\n\\n\\nReadEditView history\\n\\n\\n\\n\\n\\n\\n\\nTools\\n\\n\\n\\n\\n\\nTools\\nmove to sidebar\\nhide\\n\\n\\n\\n\\t\\tActions\\n\\t\\n\\n\\nReadEditView history\\n\\n\\n\\n\\n\\n\\t\\tGeneral\\n\\t\\n\\n\\nWhat links hereRelated changesUpload filePermanent linkPage informationCite this pageGet shortened URLDownload QR code\\n\\n\\n\\n\\n\\n\\t\\tPrint/export\\n\\t\\n\\n\\nDownload as PDFPrintable version\\n\\n\\n\\n\\n\\n\\t\\tIn other projects\\n\\t\\n\\n\\nWikidata item\\n\\n\\n\\n\\n\\n\\n\\n\\n\\n\\n\\n\\n\\n\\n\\n\\n\\n\\n\\n\\n\\nAppearance\\nmove to sidebar\\nhide\\n\\n\\n\\n\\n\\n\\n\\n\\n\\n\\nFrom Wikipedia, the free encyclopedia\\n\\n\\nWater supplied to a boiler\\nExtreme boiler scale buildup\\nLimescale buildup inside a pipe both reduces liquid flow through the pipe, as well as reduces thermal conduction from the liquid to the outer pipe shell. Both effects will reduce the pipe\\'s overall thermal efficiency when used as a heat exchanger.\\nBoiler feedwater is the water which is supplied to a boiler. The feed water is put into the steam drum from a feed pump. In the steam drum the feed water is then turned into steam from the heat. After the steam is used, it is then dumped to the main condenser. From the condenser, it is then pumped to the deaerated feed tank. From this tank it then goes back to the steam drum to complete its cycle. The feedwater is never open to the atmosphere. This cycle is known as a closed system or Rankine cycle.\\n\\n\\nHistory of feedwater treatment[edit]\\nDuring the early development of boilers, water treatment was not so much of an issue, as temperatures and pressures were so low that high amounts of scale and rust would not form to such a significant extent, especially if the boiler was “blown down”. It was general practice to install zinc plates and/or alkaline chemicals to reduce corrosion within the boiler. Many tests had been performed to determine the cause (and possible protection) from corrosion in boilers using distilled water, various chemicals, and sacrificial metals.[1] Silver nitrate can be added to feedwater samples to detect contamination by seawater. Use of lime for alkalinity control was mentioned as early as 1900, and was used by the French and British Navies until about 1935.[2] In modern boilers, treatment of feedwater is critical, as problems result from using untreated water in extreme pressure and temperature environments. This includes lower efficiency in terms of heat transfer, overheating, damage, and costly cleaning.\\n\\nCharacteristics of boiler feedwater[edit]\\nWater has a higher heat capacity than most other substances. This quality makes it an ideal raw material for boiler operations. Boilers are part of a closed system as compared to open systems in a gas turbine. The closed system that is used is the Rankine cycle. This means that the water is recirculated throughout the system and is never in contact with the atmosphere. The water is reused and needs to be treated to continue efficient operations. Boiler water must be treated in order to be proficient in producing steam, as well as preventing scaling, corrosion, foaming, and priming. \\nChemicals are put into boiler water through the chemical feed tank to keep the water within chemical range. These chemicals are mostly oxygen scavengers and phosphates. The boiler water also has frequent blowdowns in order to keep the chloride content down. The boiler operations also include bottom blows in order to get rid of solids. Scale is precipitated impurities out of the water and then forms on heat transfer surfaces. This is a problem because scale does not transfer heat very well and causes the tubes to fail by getting too hot. Corrosion is caused by oxygen in the water. The oxygen causes the metal to oxidize which lowers the melting point of the metal. Foaming and priming are caused when the boiler water does not have the correct amount of chemicals and suspended solids in the water which carry over in the dry pipe. The dry pipe is where the steam and water mixtures are separated.\\n\\nBoiler feedwater treatment[edit]\\nBoiler water treatment is used to control alkalinity, prevent scaling, correct pH, and to control conductivity.[3] The boiler water needs to be alkaline and not acidic, so that it does not ruin the tubes. There can be too much conductivity in the feed water when there are too many dissolved solids. These correct treatments can be controlled by efficient operator and use of treatment chemicals. The main objectives to treat and condition boiler water is to exchange heat without scaling, protect against scaling, and produce high quality steam. The treatment of boiler water can be put into two parts. These are internal treatment and external treatment. (Sendelbach, p.\\xa0131)[4]\\nThe internal treatment is for boiler feed water and external treatment is for make-up feed water and the condensate part of the system. Internal treatment protects against feed water hardness by preventing precipitating of scale on the boiler tubes. This treatment also protects against concentrations of dissolved and suspended solids in the feed water without priming or foaming. These treatment chemicals also help with the alkalinity of the feed water making it more of a base to help protect against boiler corrosion. The correct alkalinity is protected by adding phosphates. These phosphates precipitate the solids to the bottom of the boiler drum. At the bottom of the boiler drum there is a bottom blow to remove these solids. These chemicals also include anti-scaling agents, oxygen scavengers, and anti-foaming agents. Sludge can also be treated by two approaches. These are by coagulation and dispersion. When there is a high amount of sludge content it is better to coagulate the sludge to form large particles in order to just use the bottom blow to remove them from the feed water. When there is a low amount of sludge content it is better to use dispersants because it disperses the sludge throughout the feed water so sludge does not form.\\n\\nDeaeration of feed water[edit]\\nOxygen and carbon dioxide are removed from the feed water by deaeration. Deaeration can be accomplished by using deaerator heaters, vacuum deaerators, mechanical pumps, and steam-jet ejectors. In deaerating heaters, steam sprays incoming feed water and carries away the dissolved gases. The deaerators also store hot feed water which is ready to be used in the boiler. This means of mechanical deaeration is used with chemical oxygen scavenging agents to increase efficiency. (Sendelbach, p.\\xa0129)[4] Deaerating heaters can be classified in two groups: spray types and tray types. With tray type heaters the incoming water is sprayed into steam atmosphere to reach saturation temperature. When the saturation temperature is reached most of the oxygen and non-condensable gases are released. There are seals that prevent the recontamination of the water in the spray section. The water then falls to the storage tank below. The non-condensables and oxygen are then vented to the atmosphere. The components of the tray type deaerating heater are a shell, spray nozzles, a direct contact vent condenser, tray stacks, and protective interchamber walls. \\nThe spray type deaerator is similar to the tray type deaerator. The water is sprayed into a steam atmosphere and most of the oxygen and non-condensables are released to the steam. The water then falls to the steam scrubber where the slight pressure loss causes the water to flash a little bit which also aids the removal of oxygen and non-condensables. The water then overflows to the storage tank. The gases are then vented to the atmosphere. With vacuum deaeration a vacuum is applied to the system and water is then brought to its saturation temperature. The water is sprayed into the tank like the spray and tray deaerators. The oxygen and non-condensables are vented to the atmosphere. (Sendelbach, p.\\xa0130)\\n\\nConditioning[edit]\\nThis section needs additional citations for verification. Please help improve this article by adding citations to reliable sources in this section. Unsourced material may be challenged and removed. (February 2014) (Learn how and when to remove this message)\\nLarge cation/anion ion exchangers used in demineralization of boiler feedwater.[5]\\nThe feedwater must be specially treated to avoid problems in the boiler and downstream systems.  Untreated boiler feed water can cause corrosion and fouling.\\n\\nBoiler corrosion[edit]\\nCorrosive compounds, especially O2 and CO2 must be removed, usually by use of a deaerator. Residual amounts can be removed chemically, by use of oxygen scavengers. Additionally, feed water is typically alkalized to a pH of 9.0 or higher, to reduce oxidation and to support the formation of a stable layer of magnetite on the water-side surface of the boiler, protecting the material underneath from further corrosion. This is usually done by dosing alkaline agents into the feed water, such as sodium hydroxide (caustic soda) or ammonia. Corrosion in boilers is due to the presence of dissolved oxygen, dissolved carbon dioxide, or dissolved salts.\\n\\nFouling[edit]\\nDeposits reduce the heat transfer in the boiler, reduce the flow rate and eventually block boiler tubes. Any non-volatile salts and minerals that will remain when the feedwater is evaporated must be removed, because they will become concentrated in the liquid phase and require excessive  \"blow-down\" (draining) to prevent the formation of solid precipitates. Even worse are minerals that form scale. Therefore, the make-up water added to replace any losses of feedwater must be demineralized/deionized water, unless a purge valve is used to remove dissolved minerals.\\n\\nCaustic embrittlement[edit]\\nMain article: Caustic embrittlement\\nPriming and foaming[edit]\\nMain article: Priming (steam engine)\\nLocomotive boilers[edit]\\nSteam locomotives usually do not have condensers so the feedwater is not recycled and water consumption is high.  The use of deionized water would be prohibitively expensive so other types of water treatment are used.  Chemicals employed typically include sodium carbonate, sodium bisulfite, tannin, phosphate and an anti-foaming agent.[6]\\nTreatment systems have included:\\n\\nAlfloc, developed by British Railways and Imperial Chemical Industries[7]\\nTraitement Integral Armand (TIA), developed by Louis Armand\\nPorta Treatment, developed by Livio Dante Porta[8]\\nSee also[edit]\\nBoiler feedwater pump\\nEvaporator\\nHelamin\\nReferences[edit]\\n\\n\\n^ Lyon, Frank. Hinds, A.W.Marine And Naval Boilers. (1912). The Lord Baltimore Press.\\n\\n^ Osbourne, Alan. Modern Marine Engineers Manual. (1965). Cornell Maritime Press, inc.\\n\\n^ Shokre, A (2023). \"Principles, operational challenges, and perspectives in boiler feedwater treatment process\". Environmental Advances. 48. Bibcode:2023EnvAd..1300389S. doi:10.1016/j.envadv.2023.100389.\\n\\n^ a b Sendelbach, M. (1988). Boiler-water treatment: Why, what and how. Chemical Engineering, 95(11), 127.\\n\\n^ Mischissin, Stephen G. (7 February 2012). \"University of Rochester - Investigation of Steam Turbine Extraction Line Failures\" (PDF). Arlington, VA. pp.\\xa025–26. Archived from the original (PDF) on 23 September 2015. Retrieved 23 February 2015.\\n\\n^ Bane, M. (11 December 2006). \"Porta Treatment Internal Boiler Water Treatment for the 21st Century\" (PDF). Developments in Modern Steam Traction for Railways. York, UK. Archived from the original (PDF) on 31 October 2013. Retrieved 31 December 2013.\\n\\n^ Bane, Martyn. \"Modern Steam Glossary\". Martyn Bane\\'s steam and travel pages. Retrieved 31 December 2013.\\n\\n^ \"Porta Treatment: Advanced Internal Boiler Water Treatment\". 18 October 2007. Archived from the original on 2014-01-07. Retrieved 31 December 2013.\\n\\n\\nShun\\'an, C., Qing, Z., & Zhixin, Z. (2008). A study of the influence of chloride ion concentration on the corrosion behavior of carbon steel in phosphate high-temperature boiler water chemistries. Anti-Corrosion Methods and Materials, 55(1), 15–19.\\nSendelbach, M. (1988). Boiler-water treatment: Why, what and how. Chemical Engineering, 95(11), 127.\\nCharacteristics of boiler feed water. (n.d.). Retrieved March 21, 2015, from http://www.lenntech.com/applications/process/boiler/boiler-feedwater-characteristics.htm\\nExternal links[edit]\\nBoiler Feedwater System Configuration\\n\\n\\n\\n\\nRetrieved from \"https://en.wikipedia.org/w/index.php?title=Boiler_feedwater&oldid=1289580613\"\\nCategories: Power station technologyBoilersChemical process engineeringSteam locomotive technologiesHidden categories: Articles with short descriptionShort description matches WikidataArticles needing additional references from February 2014All articles needing additional references\\n\\n\\n\\n\\n\\n\\n This page was last edited on 9 May 2025, at 14:12\\xa0(UTC).\\nText is available under the Creative Commons Attribution-ShareAlike 4.0 License;\\nadditional terms may apply. By using this site, you agree to the Terms of Use and Privacy Policy. Wikipedia® is a registered trademark of the Wikimedia Foundation, Inc., a non-profit organization.\\n\\n\\nPrivacy policy\\nAbout Wikipedia\\nDisclaimers\\nContact Wikipedia\\nCode of Conduct\\nDevelopers\\nStatistics\\nCookie statement\\nMobile view\\n\\n\\n\\n\\n\\n\\n\\n\\n\\n\\n\\n\\n\\n\\nSearch\\n\\n\\n\\n\\n\\n\\n\\n\\n\\n\\n\\n\\n\\nSearch\\n\\n\\n\\n\\n\\n\\n\\n\\n\\nToggle the table of contents\\n\\n\\n\\n\\n\\n\\n\\nBoiler feedwater\\n\\n\\n\\n\\n\\n\\n\\n\\n\\n\\n\\n\\n\\n\\n\\n\\n\\n\\n\\n\\n\\n\\n\\n\\n\\n\\n\\n\\n9 languages\\n\\n\\nAdd topic\\n\\n\\n\\n\\n\\n\\n\\n\\n\\n\\n\\n\\n\\n\\n\\n\\n')]"
      ]
     },
     "execution_count": 2,
     "metadata": {},
     "output_type": "execute_result"
    }
   ],
   "source": [
    "documents"
   ]
  },
  {
   "cell_type": "code",
   "execution_count": 3,
   "id": "4a8c21b3",
   "metadata": {},
   "outputs": [],
   "source": [
    "from langchain.text_splitter import RecursiveCharacterTextSplitter\n",
    "\n",
    "text_splitter = RecursiveCharacterTextSplitter(\n",
    "    chunk_size=1000,  # Adjust as needed for your content\n",
    "    chunk_overlap=100,  # Adjust for contextual overlap\n",
    "    separators=[\"\\n\\n\", \"\\n\", \". \", \" \", \"\"],\n",
    ")\n",
    "chunks = text_splitter.split_documents(documents)\n"
   ]
  },
  {
   "cell_type": "code",
   "execution_count": 4,
   "id": "e04b0600",
   "metadata": {},
   "outputs": [
    {
     "data": {
      "text/plain": [
       "[Document(metadata={'source': 'https://en.wikipedia.org/wiki/Boiler_feedwater', 'title': 'Boiler feedwater - Wikipedia', 'language': 'en'}, page_content='Boiler feedwater - Wikipedia\\n\\n\\n\\n\\n\\n\\n\\n\\n\\n\\n\\n\\n\\n\\n\\n\\n\\n\\n\\n\\n\\n\\n\\n\\n\\n\\n\\n\\n\\n\\n\\n\\n\\n\\n\\nJump to content\\n\\n\\n\\n\\n\\n\\n\\nMain menu\\n\\n\\n\\n\\n\\nMain menu\\nmove to sidebar\\nhide\\n\\n\\n\\n\\t\\tNavigation\\n\\t\\n\\n\\nMain pageContentsCurrent eventsRandom articleAbout WikipediaContact us\\n\\n\\n\\n\\n\\n\\t\\tContribute\\n\\t\\n\\n\\nHelpLearn to editCommunity portalRecent changesUpload fileSpecial pages\\n\\n\\n\\n\\n\\n\\n\\n\\n\\n\\n\\n\\n\\n\\n\\n\\n\\n\\n\\nSearch\\n\\n\\n\\n\\n\\n\\n\\n\\n\\n\\n\\nSearch\\n\\n\\n\\n\\n\\n\\n\\n\\n\\n\\n\\n\\n\\n\\n\\n\\n\\n\\n\\n\\n\\n\\nAppearance\\n\\n\\n\\n\\n\\n\\n\\n\\n\\n\\n\\n\\n\\n\\n\\n\\nDonate\\n\\nCreate account\\n\\nLog in\\n\\n\\n\\n\\n\\n\\n\\n\\nPersonal tools\\n\\n\\n\\n\\n\\nDonate Create account Log in\\n\\n\\n\\n\\n\\n\\t\\tPages for logged out editors learn more\\n\\n\\n\\nContributionsTalk\\n\\n\\n\\n\\n\\n\\n\\n\\n\\n\\n\\n\\n\\n\\n\\n\\n\\n\\n\\n\\n\\n\\n\\n\\n\\n\\n\\n\\nContents\\nmove to sidebar\\nhide\\n\\n\\n\\n\\n(Top)\\n\\n\\n\\n\\n\\n1\\nHistory of feedwater treatment\\n\\n\\n\\n\\n\\n\\n\\n\\n2\\nCharacteristics of boiler feedwater\\n\\n\\n\\n\\n\\n\\n\\n\\n3\\nBoiler feedwater treatment\\n\\n\\n\\n\\n\\n\\n\\n\\n4\\nDeaeration of feed water\\n\\n\\n\\n\\n\\n\\n\\n\\n5\\nConditioning\\n\\n\\n\\n\\nToggle Conditioning subsection\\n\\n\\n\\n\\n\\n5.1\\nBoiler corrosion\\n\\n\\n\\n\\n\\n\\n\\n\\n5.2\\nFouling\\n\\n\\n\\n\\n\\n\\n\\n\\n5.3\\nCaustic embrittlement\\n\\n\\n\\n\\n\\n\\n\\n\\n5.4\\nPriming and foaming\\n\\n\\n\\n\\n\\n\\n\\n\\n\\n\\n6\\nLocomotive boilers'),\n",
       " Document(metadata={'source': 'https://en.wikipedia.org/wiki/Boiler_feedwater', 'title': 'Boiler feedwater - Wikipedia', 'language': 'en'}, page_content='5.3\\nCaustic embrittlement\\n\\n\\n\\n\\n\\n\\n\\n\\n5.4\\nPriming and foaming\\n\\n\\n\\n\\n\\n\\n\\n\\n\\n\\n6\\nLocomotive boilers\\n\\n\\n\\n\\n\\n\\n\\n\\n7\\nSee also\\n\\n\\n\\n\\n\\n\\n\\n\\n8\\nReferences\\n\\n\\n\\n\\n\\n\\n\\n\\n9\\nExternal links\\n\\n\\n\\n\\n\\n\\n\\n\\n\\n\\n\\n\\n\\n\\n\\n\\n\\n\\nToggle the table of contents\\n\\n\\n\\n\\n\\n\\n\\nBoiler feedwater\\n\\n\\n\\n9 languages\\n\\n\\n\\n\\nDeutschΕλληνικάFrançaisHrvatskiNorsk bokmålPolskiSimple EnglishSrpskohrvatski / српскохрватскиSuomi\\n\\nEdit links\\n\\n\\n\\n\\n\\n\\n\\n\\n\\n\\n\\nArticleTalk\\n\\n\\n\\n\\n\\nEnglish\\n\\n\\n\\n\\n\\n\\n\\n\\n\\n\\n\\n\\n\\n\\n\\n\\n\\nReadEditView history\\n\\n\\n\\n\\n\\n\\n\\nTools\\n\\n\\n\\n\\n\\nTools\\nmove to sidebar\\nhide\\n\\n\\n\\n\\t\\tActions\\n\\t\\n\\n\\nReadEditView history\\n\\n\\n\\n\\n\\n\\t\\tGeneral\\n\\t\\n\\n\\nWhat links hereRelated changesUpload filePermanent linkPage informationCite this pageGet shortened URLDownload QR code\\n\\n\\n\\n\\n\\n\\t\\tPrint/export\\n\\t\\n\\n\\nDownload as PDFPrintable version\\n\\n\\n\\n\\n\\n\\t\\tIn other projects\\n\\t\\n\\n\\nWikidata item\\n\\n\\n\\n\\n\\n\\n\\n\\n\\n\\n\\n\\n\\n\\n\\n\\n\\n\\n\\n\\n\\nAppearance\\nmove to sidebar\\nhide\\n\\n\\n\\n\\n\\n\\n\\n\\n\\n\\nFrom Wikipedia, the free encyclopedia'),\n",
       " Document(metadata={'source': 'https://en.wikipedia.org/wiki/Boiler_feedwater', 'title': 'Boiler feedwater - Wikipedia', 'language': 'en'}, page_content=\"Appearance\\nmove to sidebar\\nhide\\n\\n\\n\\n\\n\\n\\n\\n\\n\\n\\nFrom Wikipedia, the free encyclopedia\\n\\n\\nWater supplied to a boiler\\nExtreme boiler scale buildup\\nLimescale buildup inside a pipe both reduces liquid flow through the pipe, as well as reduces thermal conduction from the liquid to the outer pipe shell. Both effects will reduce the pipe's overall thermal efficiency when used as a heat exchanger.\\nBoiler feedwater is the water which is supplied to a boiler. The feed water is put into the steam drum from a feed pump. In the steam drum the feed water is then turned into steam from the heat. After the steam is used, it is then dumped to the main condenser. From the condenser, it is then pumped to the deaerated feed tank. From this tank it then goes back to the steam drum to complete its cycle. The feedwater is never open to the atmosphere. This cycle is known as a closed system or Rankine cycle.\"),\n",
       " Document(metadata={'source': 'https://en.wikipedia.org/wiki/Boiler_feedwater', 'title': 'Boiler feedwater - Wikipedia', 'language': 'en'}, page_content='History of feedwater treatment[edit]'),\n",
       " Document(metadata={'source': 'https://en.wikipedia.org/wiki/Boiler_feedwater', 'title': 'Boiler feedwater - Wikipedia', 'language': 'en'}, page_content='During the early development of boilers, water treatment was not so much of an issue, as temperatures and pressures were so low that high amounts of scale and rust would not form to such a significant extent, especially if the boiler was “blown down”. It was general practice to install zinc plates and/or alkaline chemicals to reduce corrosion within the boiler. Many tests had been performed to determine the cause (and possible protection) from corrosion in boilers using distilled water, various chemicals, and sacrificial metals.[1] Silver nitrate can be added to feedwater samples to detect contamination by seawater. Use of lime for alkalinity control was mentioned as early as 1900, and was used by the French and British Navies until about 1935.[2] In modern boilers, treatment of feedwater is critical, as problems result from using untreated water in extreme pressure and temperature environments'),\n",
       " Document(metadata={'source': 'https://en.wikipedia.org/wiki/Boiler_feedwater', 'title': 'Boiler feedwater - Wikipedia', 'language': 'en'}, page_content='. This includes lower efficiency in terms of heat transfer, overheating, damage, and costly cleaning.'),\n",
       " Document(metadata={'source': 'https://en.wikipedia.org/wiki/Boiler_feedwater', 'title': 'Boiler feedwater - Wikipedia', 'language': 'en'}, page_content='Characteristics of boiler feedwater[edit]\\nWater has a higher heat capacity than most other substances. This quality makes it an ideal raw material for boiler operations. Boilers are part of a closed system as compared to open systems in a gas turbine. The closed system that is used is the Rankine cycle. This means that the water is recirculated throughout the system and is never in contact with the atmosphere. The water is reused and needs to be treated to continue efficient operations. Boiler water must be treated in order to be proficient in producing steam, as well as preventing scaling, corrosion, foaming, and priming.'),\n",
       " Document(metadata={'source': 'https://en.wikipedia.org/wiki/Boiler_feedwater', 'title': 'Boiler feedwater - Wikipedia', 'language': 'en'}, page_content='Chemicals are put into boiler water through the chemical feed tank to keep the water within chemical range. These chemicals are mostly oxygen scavengers and phosphates. The boiler water also has frequent blowdowns in order to keep the chloride content down. The boiler operations also include bottom blows in order to get rid of solids. Scale is precipitated impurities out of the water and then forms on heat transfer surfaces. This is a problem because scale does not transfer heat very well and causes the tubes to fail by getting too hot. Corrosion is caused by oxygen in the water. The oxygen causes the metal to oxidize which lowers the melting point of the metal. Foaming and priming are caused when the boiler water does not have the correct amount of chemicals and suspended solids in the water which carry over in the dry pipe. The dry pipe is where the steam and water mixtures are separated.'),\n",
       " Document(metadata={'source': 'https://en.wikipedia.org/wiki/Boiler_feedwater', 'title': 'Boiler feedwater - Wikipedia', 'language': 'en'}, page_content='Boiler feedwater treatment[edit]\\nBoiler water treatment is used to control alkalinity, prevent scaling, correct pH, and to control conductivity.[3] The boiler water needs to be alkaline and not acidic, so that it does not ruin the tubes. There can be too much conductivity in the feed water when there are too many dissolved solids. These correct treatments can be controlled by efficient operator and use of treatment chemicals. The main objectives to treat and condition boiler water is to exchange heat without scaling, protect against scaling, and produce high quality steam. The treatment of boiler water can be put into two parts. These are internal treatment and external treatment. (Sendelbach, p.\\xa0131)[4]'),\n",
       " Document(metadata={'source': 'https://en.wikipedia.org/wiki/Boiler_feedwater', 'title': 'Boiler feedwater - Wikipedia', 'language': 'en'}, page_content='The internal treatment is for boiler feed water and external treatment is for make-up feed water and the condensate part of the system. Internal treatment protects against feed water hardness by preventing precipitating of scale on the boiler tubes. This treatment also protects against concentrations of dissolved and suspended solids in the feed water without priming or foaming. These treatment chemicals also help with the alkalinity of the feed water making it more of a base to help protect against boiler corrosion. The correct alkalinity is protected by adding phosphates. These phosphates precipitate the solids to the bottom of the boiler drum. At the bottom of the boiler drum there is a bottom blow to remove these solids. These chemicals also include anti-scaling agents, oxygen scavengers, and anti-foaming agents. Sludge can also be treated by two approaches. These are by coagulation and dispersion'),\n",
       " Document(metadata={'source': 'https://en.wikipedia.org/wiki/Boiler_feedwater', 'title': 'Boiler feedwater - Wikipedia', 'language': 'en'}, page_content='. Sludge can also be treated by two approaches. These are by coagulation and dispersion. When there is a high amount of sludge content it is better to coagulate the sludge to form large particles in order to just use the bottom blow to remove them from the feed water. When there is a low amount of sludge content it is better to use dispersants because it disperses the sludge throughout the feed water so sludge does not form.'),\n",
       " Document(metadata={'source': 'https://en.wikipedia.org/wiki/Boiler_feedwater', 'title': 'Boiler feedwater - Wikipedia', 'language': 'en'}, page_content='Deaeration of feed water[edit]'),\n",
       " Document(metadata={'source': 'https://en.wikipedia.org/wiki/Boiler_feedwater', 'title': 'Boiler feedwater - Wikipedia', 'language': 'en'}, page_content='Oxygen and carbon dioxide are removed from the feed water by deaeration. Deaeration can be accomplished by using deaerator heaters, vacuum deaerators, mechanical pumps, and steam-jet ejectors. In deaerating heaters, steam sprays incoming feed water and carries away the dissolved gases. The deaerators also store hot feed water which is ready to be used in the boiler. This means of mechanical deaeration is used with chemical oxygen scavenging agents to increase efficiency. (Sendelbach, p.\\xa0129)[4] Deaerating heaters can be classified in two groups: spray types and tray types. With tray type heaters the incoming water is sprayed into steam atmosphere to reach saturation temperature. When the saturation temperature is reached most of the oxygen and non-condensable gases are released. There are seals that prevent the recontamination of the water in the spray section. The water then falls to the storage tank below. The non-condensables and oxygen are then vented to the atmosphere'),\n",
       " Document(metadata={'source': 'https://en.wikipedia.org/wiki/Boiler_feedwater', 'title': 'Boiler feedwater - Wikipedia', 'language': 'en'}, page_content='. The non-condensables and oxygen are then vented to the atmosphere. The components of the tray type deaerating heater are a shell, spray nozzles, a direct contact vent condenser, tray stacks, and protective interchamber walls.'),\n",
       " Document(metadata={'source': 'https://en.wikipedia.org/wiki/Boiler_feedwater', 'title': 'Boiler feedwater - Wikipedia', 'language': 'en'}, page_content='The spray type deaerator is similar to the tray type deaerator. The water is sprayed into a steam atmosphere and most of the oxygen and non-condensables are released to the steam. The water then falls to the steam scrubber where the slight pressure loss causes the water to flash a little bit which also aids the removal of oxygen and non-condensables. The water then overflows to the storage tank. The gases are then vented to the atmosphere. With vacuum deaeration a vacuum is applied to the system and water is then brought to its saturation temperature. The water is sprayed into the tank like the spray and tray deaerators. The oxygen and non-condensables are vented to the atmosphere. (Sendelbach, p.\\xa0130)'),\n",
       " Document(metadata={'source': 'https://en.wikipedia.org/wiki/Boiler_feedwater', 'title': 'Boiler feedwater - Wikipedia', 'language': 'en'}, page_content='Conditioning[edit]\\nThis section needs additional citations for verification. Please help improve this article by adding citations to reliable sources in this section. Unsourced material may be challenged and removed. (February 2014) (Learn how and when to remove this message)\\nLarge cation/anion ion exchangers used in demineralization of boiler feedwater.[5]\\nThe feedwater must be specially treated to avoid problems in the boiler and downstream systems.  Untreated boiler feed water can cause corrosion and fouling.'),\n",
       " Document(metadata={'source': 'https://en.wikipedia.org/wiki/Boiler_feedwater', 'title': 'Boiler feedwater - Wikipedia', 'language': 'en'}, page_content='Boiler corrosion[edit]\\nCorrosive compounds, especially O2 and CO2 must be removed, usually by use of a deaerator. Residual amounts can be removed chemically, by use of oxygen scavengers. Additionally, feed water is typically alkalized to a pH of 9.0 or higher, to reduce oxidation and to support the formation of a stable layer of magnetite on the water-side surface of the boiler, protecting the material underneath from further corrosion. This is usually done by dosing alkaline agents into the feed water, such as sodium hydroxide (caustic soda) or ammonia. Corrosion in boilers is due to the presence of dissolved oxygen, dissolved carbon dioxide, or dissolved salts.'),\n",
       " Document(metadata={'source': 'https://en.wikipedia.org/wiki/Boiler_feedwater', 'title': 'Boiler feedwater - Wikipedia', 'language': 'en'}, page_content='Fouling[edit]\\nDeposits reduce the heat transfer in the boiler, reduce the flow rate and eventually block boiler tubes. Any non-volatile salts and minerals that will remain when the feedwater is evaporated must be removed, because they will become concentrated in the liquid phase and require excessive  \"blow-down\" (draining) to prevent the formation of solid precipitates. Even worse are minerals that form scale. Therefore, the make-up water added to replace any losses of feedwater must be demineralized/deionized water, unless a purge valve is used to remove dissolved minerals.'),\n",
       " Document(metadata={'source': 'https://en.wikipedia.org/wiki/Boiler_feedwater', 'title': 'Boiler feedwater - Wikipedia', 'language': 'en'}, page_content='Caustic embrittlement[edit]\\nMain article: Caustic embrittlement\\nPriming and foaming[edit]\\nMain article: Priming (steam engine)\\nLocomotive boilers[edit]\\nSteam locomotives usually do not have condensers so the feedwater is not recycled and water consumption is high.  The use of deionized water would be prohibitively expensive so other types of water treatment are used.  Chemicals employed typically include sodium carbonate, sodium bisulfite, tannin, phosphate and an anti-foaming agent.[6]\\nTreatment systems have included:\\n\\nAlfloc, developed by British Railways and Imperial Chemical Industries[7]\\nTraitement Integral Armand (TIA), developed by Louis Armand\\nPorta Treatment, developed by Livio Dante Porta[8]\\nSee also[edit]\\nBoiler feedwater pump\\nEvaporator\\nHelamin\\nReferences[edit]\\n\\n\\n^ Lyon, Frank. Hinds, A.W.Marine And Naval Boilers. (1912). The Lord Baltimore Press.\\n\\n^ Osbourne, Alan. Modern Marine Engineers Manual. (1965). Cornell Maritime Press, inc.'),\n",
       " Document(metadata={'source': 'https://en.wikipedia.org/wiki/Boiler_feedwater', 'title': 'Boiler feedwater - Wikipedia', 'language': 'en'}, page_content='^ Osbourne, Alan. Modern Marine Engineers Manual. (1965). Cornell Maritime Press, inc.\\n\\n^ Shokre, A (2023). \"Principles, operational challenges, and perspectives in boiler feedwater treatment process\". Environmental Advances. 48. Bibcode:2023EnvAd..1300389S. doi:10.1016/j.envadv.2023.100389.\\n\\n^ a b Sendelbach, M. (1988). Boiler-water treatment: Why, what and how. Chemical Engineering, 95(11), 127.\\n\\n^ Mischissin, Stephen G. (7 February 2012). \"University of Rochester - Investigation of Steam Turbine Extraction Line Failures\" (PDF). Arlington, VA. pp.\\xa025–26. Archived from the original (PDF) on 23 September 2015. Retrieved 23 February 2015.\\n\\n^ Bane, M. (11 December 2006). \"Porta Treatment Internal Boiler Water Treatment for the 21st Century\" (PDF). Developments in Modern Steam Traction for Railways. York, UK. Archived from the original (PDF) on 31 October 2013. Retrieved 31 December 2013.'),\n",
       " Document(metadata={'source': 'https://en.wikipedia.org/wiki/Boiler_feedwater', 'title': 'Boiler feedwater - Wikipedia', 'language': 'en'}, page_content='^ Bane, Martyn. \"Modern Steam Glossary\". Martyn Bane\\'s steam and travel pages. Retrieved 31 December 2013.\\n\\n^ \"Porta Treatment: Advanced Internal Boiler Water Treatment\". 18 October 2007. Archived from the original on 2014-01-07. Retrieved 31 December 2013.\\n\\n\\nShun\\'an, C., Qing, Z., & Zhixin, Z. (2008). A study of the influence of chloride ion concentration on the corrosion behavior of carbon steel in phosphate high-temperature boiler water chemistries. Anti-Corrosion Methods and Materials, 55(1), 15–19.\\nSendelbach, M. (1988). Boiler-water treatment: Why, what and how. Chemical Engineering, 95(11), 127.\\nCharacteristics of boiler feed water. (n.d.). Retrieved March 21, 2015, from http://www.lenntech.com/applications/process/boiler/boiler-feedwater-characteristics.htm\\nExternal links[edit]\\nBoiler Feedwater System Configuration'),\n",
       " Document(metadata={'source': 'https://en.wikipedia.org/wiki/Boiler_feedwater', 'title': 'Boiler feedwater - Wikipedia', 'language': 'en'}, page_content='Retrieved from \"https://en.wikipedia.org/w/index.php?title=Boiler_feedwater&oldid=1289580613\"\\nCategories: Power station technologyBoilersChemical process engineeringSteam locomotive technologiesHidden categories: Articles with short descriptionShort description matches WikidataArticles needing additional references from February 2014All articles needing additional references\\n\\n\\n\\n\\n\\n\\n This page was last edited on 9 May 2025, at 14:12\\xa0(UTC).\\nText is available under the Creative Commons Attribution-ShareAlike 4.0 License;\\nadditional terms may apply. By using this site, you agree to the Terms of Use and Privacy Policy. Wikipedia® is a registered trademark of the Wikimedia Foundation, Inc., a non-profit organization.\\n\\n\\nPrivacy policy\\nAbout Wikipedia\\nDisclaimers\\nContact Wikipedia\\nCode of Conduct\\nDevelopers\\nStatistics\\nCookie statement\\nMobile view\\n\\n\\n\\n\\n\\n\\n\\n\\n\\n\\n\\n\\n\\n\\nSearch\\n\\n\\n\\n\\n\\n\\n\\n\\n\\n\\n\\n\\n\\nSearch\\n\\n\\n\\n\\n\\n\\n\\n\\n\\nToggle the table of contents\\n\\n\\n\\n\\n\\n\\n\\nBoiler feedwater\\n\\n\\n\\n\\n\\n\\n\\n\\n\\n\\n\\n\\n\\n\\n\\n\\n\\n\\n\\n\\n\\n\\n\\n\\n\\n\\n\\n\\n9 languages'),\n",
       " Document(metadata={'source': 'https://en.wikipedia.org/wiki/Boiler_feedwater', 'title': 'Boiler feedwater - Wikipedia', 'language': 'en'}, page_content='Toggle the table of contents\\n\\n\\n\\n\\n\\n\\n\\nBoiler feedwater\\n\\n\\n\\n\\n\\n\\n\\n\\n\\n\\n\\n\\n\\n\\n\\n\\n\\n\\n\\n\\n\\n\\n\\n\\n\\n\\n\\n\\n9 languages\\n\\n\\nAdd topic')]"
      ]
     },
     "execution_count": 4,
     "metadata": {},
     "output_type": "execute_result"
    }
   ],
   "source": [
    "chunks"
   ]
  },
  {
   "cell_type": "code",
   "execution_count": 5,
   "id": "ff476ece",
   "metadata": {},
   "outputs": [
    {
     "name": "stderr",
     "output_type": "stream",
     "text": [
      "C:\\Users\\OFA2KOR\\AppData\\Local\\Temp\\ipykernel_21508\\2106737899.py:3: LangChainDeprecationWarning: The class `OllamaEmbeddings` was deprecated in LangChain 0.3.1 and will be removed in 1.0.0. An updated version of the class exists in the :class:`~langchain-ollama package and should be used instead. To use it run `pip install -U :class:`~langchain-ollama` and import as `from :class:`~langchain_ollama import OllamaEmbeddings``.\n",
      "  ollama_embeddings = OllamaEmbeddings(model=\"nomic-embed-text\")\n"
     ]
    }
   ],
   "source": [
    "from langchain_community.embeddings import OllamaEmbeddings\n",
    "\n",
    "ollama_embeddings = OllamaEmbeddings(model=\"nomic-embed-text\") \n"
   ]
  },
  {
   "cell_type": "code",
   "execution_count": 6,
   "id": "ff43f500",
   "metadata": {},
   "outputs": [
    {
     "name": "stdout",
     "output_type": "stream",
     "text": [
      "ChromaDB vector store saved to: ./chroma_db_web\n"
     ]
    }
   ],
   "source": [
    "from langchain_community.vectorstores import Chroma\n",
    "\n",
    "# Define a directory to persist your ChromaDB\n",
    "persist_directory = \"./chroma_db_web\"\n",
    "\n",
    "# Create the ChromaDB vectorstore and persist it to the specified directory\n",
    "vectorstore = Chroma.from_documents(\n",
    "    documents=chunks, \n",
    "    embedding=ollama_embeddings, \n",
    "    persist_directory=persist_directory\n",
    ")\n",
    "# You don't always need to call persist() explicitly when using persist_directory\n",
    "# It's handled implicitly by from_documents and when the object goes out of scope, according to Stack Overflow.\n",
    "# However, for clarity, you can add it if desired, but for this specific setup, it's not strictly necessary. \n",
    "# vectorstore.persist() \n",
    "print(f\"ChromaDB vector store saved to: {persist_directory}\")\n"
   ]
  },
  {
   "cell_type": "code",
   "execution_count": 7,
   "id": "883cd5d1",
   "metadata": {},
   "outputs": [
    {
     "name": "stdout",
     "output_type": "stream",
     "text": [
      "ChromaDB vector store loaded from: ./chroma_db_web\n"
     ]
    },
    {
     "name": "stderr",
     "output_type": "stream",
     "text": [
      "C:\\Users\\OFA2KOR\\AppData\\Local\\Temp\\ipykernel_21508\\2341014465.py:2: LangChainDeprecationWarning: The class `Chroma` was deprecated in LangChain 0.2.9 and will be removed in 1.0. An updated version of the class exists in the :class:`~langchain-chroma package and should be used instead. To use it run `pip install -U :class:`~langchain-chroma` and import as `from :class:`~langchain_chroma import Chroma``.\n",
      "  new_vectorstore = Chroma(\n"
     ]
    }
   ],
   "source": [
    "# To load the database later\n",
    "new_vectorstore = Chroma(\n",
    "    collection_name=\"langchain\",  # Use the default collection name or specify your own\n",
    "    embedding_function=ollama_embeddings, \n",
    "    persist_directory=persist_directory\n",
    ")\n",
    "print(f\"ChromaDB vector store loaded from: {persist_directory}\")\n"
   ]
  },
  {
   "cell_type": "code",
   "execution_count": 9,
   "id": "12561dc2",
   "metadata": {},
   "outputs": [
    {
     "name": "stdout",
     "output_type": "stream",
     "text": [
      "\n",
      "Query: feedwater causes boiler corrosion and scaling. How can it be treated?\n",
      "Top 2 similar chunks:\n",
      "Chunk 1:\n",
      "The internal treatment is for boiler feed water and external treatment is for make-up feed water and the condensate part of the system. Internal treatment protects against feed water hardness by preventing precipitating of scale on the boiler tubes. This treatment also protects against concentrations of dissolved and suspended solids in the feed water without priming or foaming. These treatment chemicals also help with the alkalinity of the feed water making it more of a base to help protect against boiler corrosion. The correct alkalinity is protected by adding phosphates. These phosphates precipitate the solids to the bottom of the boiler drum. At the bottom of the boiler drum there is a bottom blow to remove these solids. These chemicals also include anti-scaling agents, oxygen scavengers, and anti-foaming agents. Sludge can also be treated by two approaches. These are by coagulation and dispersion\n",
      "\n",
      "Source: https://en.wikipedia.org/wiki/Boiler_feedwater\n",
      "\n",
      "Chunk 2:\n",
      "Boiler feedwater treatment[edit]\n",
      "Boiler water treatment is used to control alkalinity, prevent scaling, correct pH, and to control conductivity.[3] The boiler water needs to be alkaline and not acidic, so that it does not ruin the tubes. There can be too much conductivity in the feed water when there are too many dissolved solids. These correct treatments can be controlled by efficient operator and use of treatment chemicals. The main objectives to treat and condition boiler water is to exchange heat without scaling, protect against scaling, and produce high quality steam. The treatment of boiler water can be put into two parts. These are internal treatment and external treatment. (Sendelbach, p. 131)[4]\n",
      "\n",
      "Source: https://en.wikipedia.org/wiki/Boiler_feedwater\n",
      "\n"
     ]
    }
   ],
   "source": [
    "query_text = \"feedwater causes boiler corrosion and scaling. How can it be treated?\"\n",
    "k = 2  \n",
    "\n",
    "# Perform similarity search\n",
    "results = new_vectorstore.similarity_search(query_text, k=k)\n",
    "\n",
    "print(f\"\\nQuery: {query_text}\")\n",
    "print(f\"Top {k} similar chunks:\")\n",
    "for i, doc in enumerate(results):\n",
    "    print(f\"Chunk {i+1}:\\n{doc.page_content}\\n\")\n",
    "    print(f\"Source: {doc.metadata.get('source')}\\n\")\n"
   ]
  },
  {
   "cell_type": "code",
   "execution_count": null,
   "id": "8a722b32",
   "metadata": {},
   "outputs": [],
   "source": []
  }
 ],
 "metadata": {
  "kernelspec": {
   "display_name": "env_genai",
   "language": "python",
   "name": "python3"
  },
  "language_info": {
   "codemirror_mode": {
    "name": "ipython",
    "version": 3
   },
   "file_extension": ".py",
   "mimetype": "text/x-python",
   "name": "python",
   "nbconvert_exporter": "python",
   "pygments_lexer": "ipython3",
   "version": "3.12.4"
  }
 },
 "nbformat": 4,
 "nbformat_minor": 5
}
