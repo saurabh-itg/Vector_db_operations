{
 "cells": [
  {
   "cell_type": "code",
   "execution_count": null,
   "id": "d4cf0cda",
   "metadata": {},
   "outputs": [],
   "source": [
    "#  LangChain Expression Language (LCEL)is used to chain components together"
   ]
  },
  {
   "cell_type": "code",
   "execution_count": 1,
   "id": "d7a63580",
   "metadata": {},
   "outputs": [],
   "source": [
    "import os\n",
    "from dotenv import load_dotenv\n",
    "load_dotenv()\n",
    "\n",
    "os.environ['AZURE_OPENAI_KEY']=os.getenv(\"AZURE_OPENAI_KEY\")\n",
    "os.environ[\"LANGCHAIN_API_KEY\"]=os.getenv(\"LANGCHAIN_API_KEY\")\n",
    "groq_api_key=os.getenv(\"GROQ_API_KEY\")\n",
    "\n"
   ]
  },
  {
   "cell_type": "code",
   "execution_count": null,
   "id": "31aaf030",
   "metadata": {},
   "outputs": [],
   "source": [
    "from langchain_openai import AzureChatOpenAI\n",
    "\n",
    "llm = AzureChatOpenAI(\n",
    "    azure_deployment=os.getenv(\"AZURE_DEPLOYMENT_NAME\"), \n",
    "    api_version=os.getenv(\"AZURE_OPENAI_VERSION\"),\n",
    "    api_key = os.getenv('AZURE_OPENAI_KEY'),  \n",
    "    temperature=0.9  \n",
    ")\n",
    "\n"
   ]
  },
  {
   "cell_type": "code",
   "execution_count": 2,
   "id": "9fbc03b7",
   "metadata": {},
   "outputs": [
    {
     "data": {
      "text/plain": [
       "ChatGroq(client=<groq.resources.chat.completions.Completions object at 0x000001B478DE6330>, async_client=<groq.resources.chat.completions.AsyncCompletions object at 0x000001B478F0F8C0>, model_name='Gemma2-9b-It', model_kwargs={}, groq_api_key=SecretStr('**********'))"
      ]
     },
     "execution_count": 2,
     "metadata": {},
     "output_type": "execute_result"
    }
   ],
   "source": [
    "from langchain_openai import ChatOpenAI\n",
    "from langchain_groq import ChatGroq\n",
    "model=ChatGroq(model=\"Gemma2-9b-It\",groq_api_key=groq_api_key)\n",
    "model"
   ]
  },
  {
   "cell_type": "code",
   "execution_count": 3,
   "id": "c2efe6b6",
   "metadata": {},
   "outputs": [],
   "source": [
    "from langchain_core.messages import HumanMessage,SystemMessage\n",
    "\n",
    "messages=[\n",
    "    SystemMessage(content=\"Translate the following from English to Spanish\"),\n",
    "    HumanMessage(content=\"Hello How are you?\")\n",
    "]\n",
    "\n",
    "\n",
    "result=model.invoke(messages)"
   ]
  },
  {
   "cell_type": "code",
   "execution_count": 4,
   "id": "e822355f",
   "metadata": {},
   "outputs": [
    {
     "data": {
      "text/plain": [
       "AIMessage(content='Here are a couple of ways to say \"Hello, how are you?\" in Spanish:\\n\\n* **Hola, ¿cómo estás?** (informal, used with friends and family)\\n* **Hola, ¿cómo está?** (formal, used with strangers or people you respect)\\n\\n\\nLet me know if you\\'d like to know how to say \"how are you?\" in other contexts!\\n', additional_kwargs={}, response_metadata={'token_usage': {'completion_tokens': 85, 'prompt_tokens': 21, 'total_tokens': 106, 'completion_time': 0.154545455, 'prompt_time': 0.001333789, 'queue_time': 0.192456452, 'total_time': 0.155879244}, 'model_name': 'Gemma2-9b-It', 'system_fingerprint': 'fp_10c08bf97d', 'service_tier': 'on_demand', 'finish_reason': 'stop', 'logprobs': None}, id='run--e2fa83b4-f53c-4bd0-b838-5f0fc9b6c509-0', usage_metadata={'input_tokens': 21, 'output_tokens': 85, 'total_tokens': 106})"
      ]
     },
     "execution_count": 4,
     "metadata": {},
     "output_type": "execute_result"
    }
   ],
   "source": [
    "result"
   ]
  },
  {
   "cell_type": "code",
   "execution_count": 5,
   "id": "e82307aa",
   "metadata": {},
   "outputs": [
    {
     "data": {
      "text/plain": [
       "'Here are a couple of ways to say \"Hello, how are you?\" in Spanish:\\n\\n* **Hola, ¿cómo estás?** (informal, used with friends and family)\\n* **Hola, ¿cómo está?** (formal, used with strangers or people you respect)\\n\\n\\nLet me know if you\\'d like to know how to say \"how are you?\" in other contexts!\\n'"
      ]
     },
     "execution_count": 5,
     "metadata": {},
     "output_type": "execute_result"
    }
   ],
   "source": [
    "from langchain_core.output_parsers import StrOutputParser\n",
    "parser=StrOutputParser()\n",
    "parser.invoke(result)"
   ]
  },
  {
   "cell_type": "code",
   "execution_count": 6,
   "id": "3ac3ba23",
   "metadata": {},
   "outputs": [
    {
     "data": {
      "text/plain": [
       "'Here are a few ways to say \"Hello, how are you?\" in Spanish:\\n\\n* **Hola, ¿cómo estás?** (informal, to one person)\\n* **Hola, ¿cómo están?** (informal, to multiple people)\\n* **Buenos días, ¿cómo está?** (formal, to one person in the morning)\\n* **Buenas tardes, ¿cómo está?** (formal, to one person in the afternoon/evening)\\n\\n\\nLet me know if you\\'d like more variations!\\n'"
      ]
     },
     "execution_count": 6,
     "metadata": {},
     "output_type": "execute_result"
    }
   ],
   "source": [
    "### Using LCEL- chain the components\n",
    "chain=model|parser\n",
    "chain.invoke(messages)\n"
   ]
  },
  {
   "cell_type": "code",
   "execution_count": 7,
   "id": "b8cb7749",
   "metadata": {},
   "outputs": [
    {
     "data": {
      "text/plain": [
       "[SystemMessage(content='Trnaslate the following into French:', additional_kwargs={}, response_metadata={}),\n",
       " HumanMessage(content='Hello', additional_kwargs={}, response_metadata={})]"
      ]
     },
     "execution_count": 7,
     "metadata": {},
     "output_type": "execute_result"
    }
   ],
   "source": [
    "### Prompt Templates\n",
    "from langchain_core.prompts import ChatPromptTemplate\n",
    "\n",
    "generic_template=\"Trnaslate the following into {language}:\"\n",
    "\n",
    "prompt=ChatPromptTemplate.from_messages(\n",
    "    [(\"system\",generic_template),(\"user\",\"{text}\")]\n",
    ")\n",
    "result=prompt.invoke({\"language\":\"French\",\"text\":\"Hello\"})\n",
    "result.to_messages()\n"
   ]
  },
  {
   "cell_type": "code",
   "execution_count": 8,
   "id": "9e602ef2",
   "metadata": {},
   "outputs": [
    {
     "data": {
      "text/plain": [
       "'Bonjour \\n'"
      ]
     },
     "execution_count": 8,
     "metadata": {},
     "output_type": "execute_result"
    }
   ],
   "source": [
    "##Chaining together components with LCEL\n",
    "chain=prompt|model|parser\n",
    "chain.invoke({\"language\":\"French\",\"text\":\"Hello\"})"
   ]
  },
  {
   "cell_type": "code",
   "execution_count": null,
   "id": "58923ff8",
   "metadata": {},
   "outputs": [],
   "source": []
  }
 ],
 "metadata": {
  "kernelspec": {
   "display_name": "env_genai",
   "language": "python",
   "name": "python3"
  },
  "language_info": {
   "codemirror_mode": {
    "name": "ipython",
    "version": 3
   },
   "file_extension": ".py",
   "mimetype": "text/x-python",
   "name": "python",
   "nbconvert_exporter": "python",
   "pygments_lexer": "ipython3",
   "version": "3.12.4"
  }
 },
 "nbformat": 4,
 "nbformat_minor": 5
}
