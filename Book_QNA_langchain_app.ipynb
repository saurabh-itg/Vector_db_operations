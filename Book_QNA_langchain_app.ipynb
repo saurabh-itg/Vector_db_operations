{
 "cells": [
  {
   "cell_type": "code",
   "execution_count": 1,
   "id": "4dfd67af",
   "metadata": {},
   "outputs": [],
   "source": [
    "import os\n",
    "from dotenv import load_dotenv\n",
    "load_dotenv()\n",
    "\n",
    "os.environ['AZURE_OPENAI_KEY']=os.getenv(\"AZURE_OPENAI_KEY\")\n",
    "os.environ[\"LANGCHAIN_API_KEY\"]=os.getenv(\"LANGCHAIN_API_KEY\")\n",
    "os.environ[\"LANGCHAIN_TRACING_V2\"]=\"true\""
   ]
  },
  {
   "cell_type": "code",
   "execution_count": 2,
   "id": "07c16181",
   "metadata": {},
   "outputs": [],
   "source": [
    "from langchain_openai import AzureChatOpenAI\n",
    "\n",
    "llm = AzureChatOpenAI(\n",
    "    azure_deployment=os.getenv(\"AZURE_DEPLOYMENT_NAME\"), \n",
    "    api_version=os.getenv(\"AZURE_OPENAI_VERSION\"),\n",
    "    api_key = os.getenv('AZURE_OPENAI_KEY'),  \n",
    "    temperature=0.9  \n",
    ")\n",
    "\n"
   ]
  },
  {
   "cell_type": "code",
   "execution_count": 3,
   "id": "b451a68c",
   "metadata": {},
   "outputs": [
    {
     "name": "stderr",
     "output_type": "stream",
     "text": [
      "USER_AGENT environment variable not set, consider setting it to identify your requests.\n"
     ]
    }
   ],
   "source": [
    "## Data Ingestion--From the website we need to scrape the data\n",
    "from langchain_community.document_loaders import WebBaseLoader"
   ]
  },
  {
   "cell_type": "code",
   "execution_count": 4,
   "id": "547e8229",
   "metadata": {},
   "outputs": [
    {
     "data": {
      "text/plain": [
       "<langchain_community.document_loaders.web_base.WebBaseLoader at 0x16c1f271d00>"
      ]
     },
     "execution_count": 4,
     "metadata": {},
     "output_type": "execute_result"
    }
   ],
   "source": [
    "loader=WebBaseLoader(\"https://jamesclear.com/atomic-habits-summary\")\n",
    "loader"
   ]
  },
  {
   "cell_type": "code",
   "execution_count": 5,
   "id": "a4f470f1",
   "metadata": {},
   "outputs": [
    {
     "data": {
      "text/plain": [
       "[Document(metadata={'source': 'https://jamesclear.com/atomic-habits-summary', 'title': 'Atomic Habits Summary by James Clear', 'description': \"Read this Atomic Habits summary to glean 3 key lessons from the book and learn James Clear's simple rules for better habits.\", 'language': 'en-US'}, page_content='\\n\\n\\n\\n\\n\\n\\n\\n\\n\\n\\nAtomic Habits Summary by James Clear\\n\\n\\n\\n\\n\\n\\n\\n\\n\\n\\n\\n\\n\\n\\n\\n\\n\\n\\n\\n\\n\\n\\n\\n\\n\\n\\n\\n\\n\\n\\n\\n\\n\\n\\n\\n\\n\\n\\n\\n\\n\\n\\n\\n\\n\\n\\n\\n\\n\\n\\n\\n\\n\\n\\n\\n\\n\\n\\n\\n\\n\\n\\n\\n\\n\\n\\n\\n\\n\\n\\n\\n\\n\\n\\n\\n\\n\\nBooks\\nArticles\\nNewsletter\\nApp\\nSpeaking\\n\\n\\n\\n\\n\\nMenu\\nClose\\n\\n\\nAbout\\n\\n\\n\\nBooks\\nArticles\\nNewsletter\\nApp\\nSpeaking\\nAbout\\n\\n\\n\\n\\n\\n\\n\\n\\n\\n\\n\\n\\nAtomic Habits Summary\\nAtomic Habits Summary in Three Sentences\\nAtomic Habits by James Clear is a comprehensive, practical guide on how to change your habits and get 1% better every day. Using a framework called the Four Laws of Behavior Change, Atomic Habits teaches readers a simple set of rules for creating good habits and breaking bad ones. Read the full summary to glean 3 key lessons from Atomic Habits, learn how to build a habit in 4 simple steps, and get a handy reference guide for the strategies recommended throughout the book.\\n\\nAtomic Habits is a #1 New York Times bestseller and the highest-rated habits book on Amazon (4.8 out of 5 stars with 100,000+ reviews). Get your copy here.\\nAtomic Habits Summary\\xa0\\n3 Key Lessons from Atomic Habits\\nThis section of the Atomic Habits summary presents key points from three of the core themes of the book.\\xa0\\nLesson 1: Small habits make a big difference\\nIt is so easy to overestimate the importance of one defining moment and underestimate the value of making small improvements on a daily basis.\\xa0\\nMeanwhile, improving by 1 percent isn’t particularly notable— sometimes it isn’t even noticeable—but it can be far more meaningful, especially in the long run. The difference a tiny improvement can make over time is astounding. Here’s\\xa0 how\\xa0 the math works out: if you can\\xa0 get 1 percent better each day for one year, you’ll end up thirty-seven times better by the time you’re done. Conversely, if you get 1 percent worse each day for one year, you’ll decline nearly down to zero. What starts as a small win or a minor setback accumulates into something much more.\\nIt doesn’t matter how successful or unsuccessful you are right now. What matters is whether your habits are putting you on the path toward success.\\xa0\\nFocus on getting 1 percent better every day.\\xa0\\nLesson 2: Forget about setting goals. Focus on your system instead.\\xa0\\nGoals are about the results you want to achieve. Systems are about the processes that lead to those results.\\nIf you’re having trouble changing your habits, the problem isn’t you. The problem is your system. Bad habits repeat themselves again and again not because you don’t want to change, but because you have the wrong system for change.\\nYou do not rise to the level of your goals. You fall to the level of your systems.\\nAtomic Habits presents a proven system for building good habits and breaking bad ones.\\nLesson 3: Build identity-based habits\\nThe key to building lasting habits is focusing on creating a new identity first. Your current behaviors are simply a reflection of your current identity. What you do now is a mirror image of the type of person you believe that you are (either consciously or subconsciously).\\nTo change your behavior for good, you need to start believing new things about yourself. You need to build identity-based habits.\\nChanging your beliefs isn’t nearly as hard as you might think. There are two steps.\\nDecide the type of person you want to be.Prove it to yourself with small wins.\\nYour identity emerges out of your habits. Every action is a vote for the type of person you wish to become.\\nHow to build better habits in 4 simple steps\\nThis section of the Atomic Habits summary presents key points from the actionable strategies in the book, organized around a framework called the Four Laws of Behavior Change.\\xa0\\xa0\\xa0\\nThe process of building a habit can be divided into four simple steps: cue, craving, response, and reward.\\xa0\\nBreaking it down into these fundamental parts can help us understand what a habit is, how it works, and how to improve it.\\n\\n\\nThe cue triggers a craving, which motivates a response, which provides a reward, which satisfies the craving and, ultimately, becomes associated with the cue. Together, these four steps form a neurological feedback loop—cue, craving, response, reward; cue, craving, response, reward—that ultimately allows you to create automatic habits. This cycle is known as the habit loop.\\nWe can transform these four steps into a practical framework that we can use to design good habits and eliminate bad ones.\\nThe framework is called the Four Laws of Behavior Change, and it provides a simple set of rules for creating good habits and breaking bad ones.\\nHow to create a good habit:\\xa0\\nThe 1st law (Cue): Make it obvious.\\xa0The 2nd law (Craving): Make it attractive.\\xa0The 3rd law (Response): Make it easy.\\xa0The 4th law (Reward): Make it satisfying.\\nHow to break a bad habit:\\nInversion of the 1st law (Cue): Make it invisible.\\xa0Inversion of the 2nd law (Craving): Make it unattractive.\\xa0Inversion of the 3rd law (Response): Make it difficult.\\xa0Inversion of the 4th law (Reward): Make it unsatisfying.\\nAtomic Habits summary cheat sheet\\nThis useful Atomic Habits summary cheat sheet compresses many of the key ideas and insights from the book into a handy reference guide for how to build a good habit or break a bad one.\\n\\n\\nPopular Atomic Habits quotes\\n“Every action you take is a vote for the type of person you wish to become. No single instance will transform your beliefs, but as the votes build up, so does the evidence of your new identity. This is one reason why meaningful change does not require radical change. Small habits can make a meaningful difference by providing evidence of a new identity. And if a change is meaningful, it is actually big. That’s the paradox of making small improvements.” \\nAtomic Habits, page 38\\n\\n“All big things come from small beginnings. The seed of every habit is a single, tiny decision. But as that decision is repeated, a habit sprouts and grows stronger. Roots entrench themselves and branches grow. The task of breaking a bad habit is like uprooting a powerful oak within us. And the task of building a good habit is like cultivating a delicate flower one day at a time.”\\n– Atomic Habits, page 22\\n\\n“The purpose of setting goals is to win the game. The purpose of building systems is to continue playing the game. True long-term thinking is goal-less thinking. It’s not about any single accomplishment. It is about the cycle of endless refinement and continuous improvement. Ultimately, it is your commitment to the process that will determine your progress.”\\n– Atomic Habits, page 27\\n\\nYou can browse more popular Atomic Habits quotes here.\\xa0\\nRead More\\nIf you enjoyed this Atomic Habits summary, please consider buying the book.\\nPacked with self-improvement strategies, Atomic Habits will teach you how to make the small changes that will transform your habits and deliver remarkable results.\\n\\n\\n\\nAtomic Habits\\n\\nBuy the book:\\nPrint Kindle Audible \\nOr, learn more about Atomic Habits.\\n\\n\\n\\n\\n\\n\\n30 Days to Better Habits: A simple step-by-step guide for forming habits that stick\\n\\n\\nTake the guesswork out of habit-building. 11 email lessons walk you through the first 30 days of a habit step-by-step, so you know exactly what to do.\\nGet the tools and strategies you need to take action. The course includes a 20-page PDF workbook (including templates and cheatsheets), plus new examples and applications that you can’t find in Atomic Habits.\\xa0\\nLearn a framework that works for any habit. You can use this course to build any good habit – from getting fit, to saving for an early retirement, to daily meditation.\\n\\n\\n\\n\\n\\n\\nEnroll in the free email course and get your first lesson today\\n\\nYou will get one short email every three days for a month. You can unsubscribe any time.\\n\\n\\n\\n\\n\\n\\n\\n\\n\\n\\n\\n\\n\\n\\n\\n\\n\\n\\n\\n\\n\\n\\n\\n\\n\\n\\n\\n\\n                                Atomic Habits\\n              \\n\\n\\n\\n\\n                                MasterClass\\n              \\n\\n\\n\\n\\n                                Habit Journal\\n              \\n\\n\\n\\n\\n                                Atomic Habits App\\n              \\n\\n\\n\\n\\n\\n\\n\\n\\n\\n\\n\\n\\n\\n\\n\\n\\n\\n\\nPrivacy & Terms of Use\\nHosting by LiquidWeb\\nForms by OptinMonster\\n\\n\\n\\n \\n\\n\\n\\n\\n\\n\\n\\n\\n\\n\\n\\n\\n\\n \\n\\n\\n\\n\\n\\n\\n\\n\\n\\n\\n\\n\\n')]"
      ]
     },
     "execution_count": 5,
     "metadata": {},
     "output_type": "execute_result"
    }
   ],
   "source": [
    "docs=loader.load()\n",
    "docs"
   ]
  },
  {
   "cell_type": "code",
   "execution_count": 6,
   "id": "c587c7f3",
   "metadata": {},
   "outputs": [],
   "source": [
    "### Load Data--> Docs-->Divide our Docuemnts into chunks dcouments-->text-->vectors-->Vector Embeddings--->Vector Store DB\n",
    "from langchain_text_splitters import RecursiveCharacterTextSplitter\n",
    "\n",
    "text_splitter=RecursiveCharacterTextSplitter(chunk_size=1000,chunk_overlap=200)\n",
    "documents=text_splitter.split_documents(docs)"
   ]
  },
  {
   "cell_type": "code",
   "execution_count": 7,
   "id": "751d9607",
   "metadata": {},
   "outputs": [
    {
     "data": {
      "text/plain": [
       "[Document(metadata={'source': 'https://jamesclear.com/atomic-habits-summary', 'title': 'Atomic Habits Summary by James Clear', 'description': \"Read this Atomic Habits summary to glean 3 key lessons from the book and learn James Clear's simple rules for better habits.\", 'language': 'en-US'}, page_content='Atomic Habits Summary by James Clear\\n\\n\\n\\n\\n\\n\\n\\n\\n\\n\\n\\n\\n\\n\\n\\n\\n\\n\\n\\n\\n\\n\\n\\n\\n\\n\\n\\n\\n\\n\\n\\n\\n\\n\\n\\n\\n\\n\\n\\n\\n\\n\\n\\n\\n\\n\\n\\n\\n\\n\\n\\n\\n\\n\\n\\n\\n\\n\\n\\n\\n\\n\\n\\n\\n\\n\\n\\n\\n\\n\\n\\n\\n\\n\\n\\n\\n\\nBooks\\nArticles\\nNewsletter\\nApp\\nSpeaking\\n\\n\\n\\n\\n\\nMenu\\nClose\\n\\n\\nAbout\\n\\n\\n\\nBooks\\nArticles\\nNewsletter\\nApp\\nSpeaking\\nAbout\\n\\n\\n\\n\\n\\n\\n\\n\\n\\n\\n\\n\\nAtomic Habits Summary\\nAtomic Habits Summary in Three Sentences\\nAtomic Habits by James Clear is a comprehensive, practical guide on how to change your habits and get 1% better every day. Using a framework called the Four Laws of Behavior Change, Atomic Habits teaches readers a simple set of rules for creating good habits and breaking bad ones. Read the full summary to glean 3 key lessons from Atomic Habits, learn how to build a habit in 4 simple steps, and get a handy reference guide for the strategies recommended throughout the book.'),\n",
       " Document(metadata={'source': 'https://jamesclear.com/atomic-habits-summary', 'title': 'Atomic Habits Summary by James Clear', 'description': \"Read this Atomic Habits summary to glean 3 key lessons from the book and learn James Clear's simple rules for better habits.\", 'language': 'en-US'}, page_content='Atomic Habits is a #1 New York Times bestseller and the highest-rated habits book on Amazon (4.8 out of 5 stars with 100,000+ reviews). Get your copy here.\\nAtomic Habits Summary\\xa0\\n3 Key Lessons from Atomic Habits\\nThis section of the Atomic Habits summary presents key points from three of the core themes of the book.\\xa0\\nLesson 1: Small habits make a big difference\\nIt is so easy to overestimate the importance of one defining moment and underestimate the value of making small improvements on a daily basis.'),\n",
       " Document(metadata={'source': 'https://jamesclear.com/atomic-habits-summary', 'title': 'Atomic Habits Summary by James Clear', 'description': \"Read this Atomic Habits summary to glean 3 key lessons from the book and learn James Clear's simple rules for better habits.\", 'language': 'en-US'}, page_content='Lesson 1: Small habits make a big difference\\nIt is so easy to overestimate the importance of one defining moment and underestimate the value of making small improvements on a daily basis.\\xa0\\nMeanwhile, improving by 1 percent isn’t particularly notable— sometimes it isn’t even noticeable—but it can be far more meaningful, especially in the long run. The difference a tiny improvement can make over time is astounding. Here’s\\xa0 how\\xa0 the math works out: if you can\\xa0 get 1 percent better each day for one year, you’ll end up thirty-seven times better by the time you’re done. Conversely, if you get 1 percent worse each day for one year, you’ll decline nearly down to zero. What starts as a small win or a minor setback accumulates into something much more.\\nIt doesn’t matter how successful or unsuccessful you are right now. What matters is whether your habits are putting you on the path toward success.\\xa0\\nFocus on getting 1 percent better every day.'),\n",
       " Document(metadata={'source': 'https://jamesclear.com/atomic-habits-summary', 'title': 'Atomic Habits Summary by James Clear', 'description': \"Read this Atomic Habits summary to glean 3 key lessons from the book and learn James Clear's simple rules for better habits.\", 'language': 'en-US'}, page_content='It doesn’t matter how successful or unsuccessful you are right now. What matters is whether your habits are putting you on the path toward success.\\xa0\\nFocus on getting 1 percent better every day.\\xa0\\nLesson 2: Forget about setting goals. Focus on your system instead.\\xa0\\nGoals are about the results you want to achieve. Systems are about the processes that lead to those results.\\nIf you’re having trouble changing your habits, the problem isn’t you. The problem is your system. Bad habits repeat themselves again and again not because you don’t want to change, but because you have the wrong system for change.\\nYou do not rise to the level of your goals. You fall to the level of your systems.\\nAtomic Habits presents a proven system for building good habits and breaking bad ones.\\nLesson 3: Build identity-based habits'),\n",
       " Document(metadata={'source': 'https://jamesclear.com/atomic-habits-summary', 'title': 'Atomic Habits Summary by James Clear', 'description': \"Read this Atomic Habits summary to glean 3 key lessons from the book and learn James Clear's simple rules for better habits.\", 'language': 'en-US'}, page_content='Atomic Habits presents a proven system for building good habits and breaking bad ones.\\nLesson 3: Build identity-based habits\\nThe key to building lasting habits is focusing on creating a new identity first. Your current behaviors are simply a reflection of your current identity. What you do now is a mirror image of the type of person you believe that you are (either consciously or subconsciously).\\nTo change your behavior for good, you need to start believing new things about yourself. You need to build identity-based habits.\\nChanging your beliefs isn’t nearly as hard as you might think. There are two steps.\\nDecide the type of person you want to be.Prove it to yourself with small wins.\\nYour identity emerges out of your habits. Every action is a vote for the type of person you wish to become.\\nHow to build better habits in 4 simple steps'),\n",
       " Document(metadata={'source': 'https://jamesclear.com/atomic-habits-summary', 'title': 'Atomic Habits Summary by James Clear', 'description': \"Read this Atomic Habits summary to glean 3 key lessons from the book and learn James Clear's simple rules for better habits.\", 'language': 'en-US'}, page_content='Your identity emerges out of your habits. Every action is a vote for the type of person you wish to become.\\nHow to build better habits in 4 simple steps\\nThis section of the Atomic Habits summary presents key points from the actionable strategies in the book, organized around a framework called the Four Laws of Behavior Change.\\xa0\\xa0\\xa0\\nThe process of building a habit can be divided into four simple steps: cue, craving, response, and reward.\\xa0\\nBreaking it down into these fundamental parts can help us understand what a habit is, how it works, and how to improve it.'),\n",
       " Document(metadata={'source': 'https://jamesclear.com/atomic-habits-summary', 'title': 'Atomic Habits Summary by James Clear', 'description': \"Read this Atomic Habits summary to glean 3 key lessons from the book and learn James Clear's simple rules for better habits.\", 'language': 'en-US'}, page_content='The cue triggers a craving, which motivates a response, which provides a reward, which satisfies the craving and, ultimately, becomes associated with the cue. Together, these four steps form a neurological feedback loop—cue, craving, response, reward; cue, craving, response, reward—that ultimately allows you to create automatic habits. This cycle is known as the habit loop.\\nWe can transform these four steps into a practical framework that we can use to design good habits and eliminate bad ones.\\nThe framework is called the Four Laws of Behavior Change, and it provides a simple set of rules for creating good habits and breaking bad ones.\\nHow to create a good habit:\\xa0\\nThe 1st law (Cue): Make it obvious.\\xa0The 2nd law (Craving): Make it attractive.\\xa0The 3rd law (Response): Make it easy.\\xa0The 4th law (Reward): Make it satisfying.\\nHow to break a bad habit:'),\n",
       " Document(metadata={'source': 'https://jamesclear.com/atomic-habits-summary', 'title': 'Atomic Habits Summary by James Clear', 'description': \"Read this Atomic Habits summary to glean 3 key lessons from the book and learn James Clear's simple rules for better habits.\", 'language': 'en-US'}, page_content='The 1st law (Cue): Make it obvious.\\xa0The 2nd law (Craving): Make it attractive.\\xa0The 3rd law (Response): Make it easy.\\xa0The 4th law (Reward): Make it satisfying.\\nHow to break a bad habit:\\nInversion of the 1st law (Cue): Make it invisible.\\xa0Inversion of the 2nd law (Craving): Make it unattractive.\\xa0Inversion of the 3rd law (Response): Make it difficult.\\xa0Inversion of the 4th law (Reward): Make it unsatisfying.\\nAtomic Habits summary cheat sheet\\nThis useful Atomic Habits summary cheat sheet compresses many of the key ideas and insights from the book into a handy reference guide for how to build a good habit or break a bad one.'),\n",
       " Document(metadata={'source': 'https://jamesclear.com/atomic-habits-summary', 'title': 'Atomic Habits Summary by James Clear', 'description': \"Read this Atomic Habits summary to glean 3 key lessons from the book and learn James Clear's simple rules for better habits.\", 'language': 'en-US'}, page_content='Popular Atomic Habits quotes\\n“Every action you take is a vote for the type of person you wish to become. No single instance will transform your beliefs, but as the votes build up, so does the evidence of your new identity. This is one reason why meaningful change does not require radical change. Small habits can make a meaningful difference by providing evidence of a new identity. And if a change is meaningful, it is actually big. That’s the paradox of making small improvements.” \\nAtomic Habits, page 38\\n\\n“All big things come from small beginnings. The seed of every habit is a single, tiny decision. But as that decision is repeated, a habit sprouts and grows stronger. Roots entrench themselves and branches grow. The task of breaking a bad habit is like uprooting a powerful oak within us. And the task of building a good habit is like cultivating a delicate flower one day at a time.”\\n– Atomic Habits, page 22'),\n",
       " Document(metadata={'source': 'https://jamesclear.com/atomic-habits-summary', 'title': 'Atomic Habits Summary by James Clear', 'description': \"Read this Atomic Habits summary to glean 3 key lessons from the book and learn James Clear's simple rules for better habits.\", 'language': 'en-US'}, page_content='“The purpose of setting goals is to win the game. The purpose of building systems is to continue playing the game. True long-term thinking is goal-less thinking. It’s not about any single accomplishment. It is about the cycle of endless refinement and continuous improvement. Ultimately, it is your commitment to the process that will determine your progress.”\\n– Atomic Habits, page 27\\n\\nYou can browse more popular Atomic Habits quotes here.\\xa0\\nRead More\\nIf you enjoyed this Atomic Habits summary, please consider buying the book.\\nPacked with self-improvement strategies, Atomic Habits will teach you how to make the small changes that will transform your habits and deliver remarkable results.\\n\\n\\n\\nAtomic Habits\\n\\nBuy the book:\\nPrint Kindle Audible \\nOr, learn more about Atomic Habits.\\n\\n\\n\\n\\n\\n\\n30 Days to Better Habits: A simple step-by-step guide for forming habits that stick'),\n",
       " Document(metadata={'source': 'https://jamesclear.com/atomic-habits-summary', 'title': 'Atomic Habits Summary by James Clear', 'description': \"Read this Atomic Habits summary to glean 3 key lessons from the book and learn James Clear's simple rules for better habits.\", 'language': 'en-US'}, page_content='Atomic Habits\\n\\nBuy the book:\\nPrint Kindle Audible \\nOr, learn more about Atomic Habits.\\n\\n\\n\\n\\n\\n\\n30 Days to Better Habits: A simple step-by-step guide for forming habits that stick\\n\\n\\nTake the guesswork out of habit-building. 11 email lessons walk you through the first 30 days of a habit step-by-step, so you know exactly what to do.\\nGet the tools and strategies you need to take action. The course includes a 20-page PDF workbook (including templates and cheatsheets), plus new examples and applications that you can’t find in Atomic Habits.\\xa0\\nLearn a framework that works for any habit. You can use this course to build any good habit – from getting fit, to saving for an early retirement, to daily meditation.\\n\\n\\n\\n\\n\\n\\nEnroll in the free email course and get your first lesson today\\n\\nYou will get one short email every three days for a month. You can unsubscribe any time.\\n\\n\\n\\n\\n\\n\\n\\n\\n\\n\\n\\n\\n\\n\\n\\n\\n\\n\\n\\n\\n\\n\\n\\n\\n\\n\\n\\n\\n                                Atomic Habits'),\n",
       " Document(metadata={'source': 'https://jamesclear.com/atomic-habits-summary', 'title': 'Atomic Habits Summary by James Clear', 'description': \"Read this Atomic Habits summary to glean 3 key lessons from the book and learn James Clear's simple rules for better habits.\", 'language': 'en-US'}, page_content='You will get one short email every three days for a month. You can unsubscribe any time.\\n\\n\\n\\n\\n\\n\\n\\n\\n\\n\\n\\n\\n\\n\\n\\n\\n\\n\\n\\n\\n\\n\\n\\n\\n\\n\\n\\n\\n                                Atomic Habits\\n              \\n\\n\\n\\n\\n                                MasterClass\\n              \\n\\n\\n\\n\\n                                Habit Journal\\n              \\n\\n\\n\\n\\n                                Atomic Habits App\\n              \\n\\n\\n\\n\\n\\n\\n\\n\\n\\n\\n\\n\\n\\n\\n\\n\\n\\n\\nPrivacy & Terms of Use\\nHosting by LiquidWeb\\nForms by OptinMonster')]"
      ]
     },
     "execution_count": 7,
     "metadata": {},
     "output_type": "execute_result"
    }
   ],
   "source": [
    "documents"
   ]
  },
  {
   "cell_type": "code",
   "execution_count": null,
   "id": "4f9ca9b0",
   "metadata": {},
   "outputs": [],
   "source": []
  },
  {
   "cell_type": "code",
   "execution_count": 9,
   "id": "5b979969",
   "metadata": {},
   "outputs": [],
   "source": [
    "from langchain_community.embeddings import OllamaEmbeddings\n",
    "from langchain_community.vectorstores import FAISS\n",
    "\n",
    "\n",
    "# Initialize OllamaEmbeddings\n",
    "embeddings = OllamaEmbeddings(model=\"nomic-embed-text\") \n",
    "\n",
    "# Create the FAISS vector database\n",
    "vectorstore = FAISS.from_documents(documents, embeddings) \n"
   ]
  },
  {
   "cell_type": "code",
   "execution_count": 10,
   "id": "d31edb43",
   "metadata": {},
   "outputs": [
    {
     "data": {
      "text/plain": [
       "<langchain_community.vectorstores.faiss.FAISS at 0x16c3ec75d60>"
      ]
     },
     "execution_count": 10,
     "metadata": {},
     "output_type": "execute_result"
    }
   ],
   "source": [
    "vectorstore"
   ]
  },
  {
   "cell_type": "code",
   "execution_count": 11,
   "id": "3dcb3e69",
   "metadata": {},
   "outputs": [
    {
     "data": {
      "text/plain": [
       "'Atomic Habits\\n\\nBuy the book:\\nPrint Kindle Audible \\nOr, learn more about Atomic Habits.\\n\\n\\n\\n\\n\\n\\n30 Days to Better Habits: A simple step-by-step guide for forming habits that stick\\n\\n\\nTake the guesswork out of habit-building. 11 email lessons walk you through the first 30 days of a habit step-by-step, so you know exactly what to do.\\nGet the tools and strategies you need to take action. The course includes a 20-page PDF workbook (including templates and cheatsheets), plus new examples and applications that you can’t find in Atomic Habits.\\xa0\\nLearn a framework that works for any habit. You can use this course to build any good habit – from getting fit, to saving for an early retirement, to daily meditation.\\n\\n\\n\\n\\n\\n\\nEnroll in the free email course and get your first lesson today\\n\\nYou will get one short email every three days for a month. You can unsubscribe any time.\\n\\n\\n\\n\\n\\n\\n\\n\\n\\n\\n\\n\\n\\n\\n\\n\\n\\n\\n\\n\\n\\n\\n\\n\\n\\n\\n\\n\\n                                Atomic Habits'"
      ]
     },
     "execution_count": 11,
     "metadata": {},
     "output_type": "execute_result"
    }
   ],
   "source": [
    "## Query From a vector db\n",
    "query=\"good habits take time\"\n",
    "result=vectorstore.similarity_search(query)\n",
    "result[0].page_content"
   ]
  },
  {
   "cell_type": "code",
   "execution_count": 12,
   "id": "15a61d73",
   "metadata": {},
   "outputs": [
    {
     "data": {
      "text/plain": [
       "RunnableBinding(bound=RunnableBinding(bound=RunnableAssign(mapper={\n",
       "  context: RunnableLambda(format_docs)\n",
       "}), kwargs={}, config={'run_name': 'format_inputs'}, config_factories=[])\n",
       "| ChatPromptTemplate(input_variables=['context'], input_types={}, partial_variables={}, messages=[HumanMessagePromptTemplate(prompt=PromptTemplate(input_variables=['context'], input_types={}, partial_variables={}, template='\\nAnswer the following question based only on the provided context:\\n<context>\\n{context}\\n</context>\\n\\n\\n'), additional_kwargs={})])\n",
       "| AzureChatOpenAI(client=<openai.resources.chat.completions.completions.Completions object at 0x0000016C1EC71A00>, async_client=<openai.resources.chat.completions.completions.AsyncCompletions object at 0x0000016C1F15A990>, root_client=<openai.lib.azure.AzureOpenAI object at 0x0000016C1E935D30>, root_async_client=<openai.lib.azure.AsyncAzureOpenAI object at 0x0000016C1EC71A60>, temperature=0.9, model_kwargs={}, openai_api_key=SecretStr('**********'), disabled_params={'parallel_tool_calls': None}, azure_endpoint='https://omz2k-m7looa2k-japaneast.cognitiveservices.azure.com/openai/deployments/KN-gpt-4o/chat/completions?api-version=2024-08-01-preview', deployment_name='gpt-4o', openai_api_version='2024-08-01-preview', openai_api_type='azure')\n",
       "| StrOutputParser(), kwargs={}, config={'run_name': 'stuff_documents_chain'}, config_factories=[])"
      ]
     },
     "execution_count": 12,
     "metadata": {},
     "output_type": "execute_result"
    }
   ],
   "source": [
    "## Retrieval Chain, Document chain\n",
    "\n",
    "from langchain.chains.combine_documents import create_stuff_documents_chain\n",
    "from langchain_core.prompts import ChatPromptTemplate\n",
    "\n",
    "prompt=ChatPromptTemplate.from_template(\n",
    "    \"\"\"\n",
    "Answer the following question based only on the provided context:\n",
    "<context>\n",
    "{context}\n",
    "</context>\n",
    "\n",
    "\n",
    "\"\"\"\n",
    ")\n",
    "\n",
    "document_chain=create_stuff_documents_chain(llm,prompt)\n",
    "document_chain"
   ]
  },
  {
   "cell_type": "code",
   "execution_count": 13,
   "id": "1221b278",
   "metadata": {},
   "outputs": [
    {
     "data": {
      "text/plain": [
       "'The problem with changing habits is not due to a lack of desire to change, but rather due to having the wrong system for change.'"
      ]
     },
     "execution_count": 13,
     "metadata": {},
     "output_type": "execute_result"
    }
   ],
   "source": [
    "from langchain_core.documents import Document\n",
    "document_chain.invoke({\n",
    "    \"input\":\"what are good habits \",\n",
    "    \"context\":[Document(page_content=\"If you’re having trouble changing your habits, the problem isn’t you. The problem is your system. Bad habits repeat themselves again and again not because you don’t want to change, but because you have the wrong system for change.\")]\n",
    "})"
   ]
  },
  {
   "cell_type": "code",
   "execution_count": null,
   "id": "91d98b23",
   "metadata": {},
   "outputs": [
    {
     "data": {
      "text/plain": [
       "<langchain_community.vectorstores.faiss.FAISS at 0x16c3ec75d60>"
      ]
     },
     "execution_count": 14,
     "metadata": {},
     "output_type": "execute_result"
    }
   ],
   "source": [
    "### Input--->Retriever--->vectorstore\n",
    "vectorstore"
   ]
  },
  {
   "cell_type": "code",
   "execution_count": 15,
   "id": "d75f5044",
   "metadata": {},
   "outputs": [],
   "source": [
    "retriever=vectorstore.as_retriever()\n",
    "from langchain.chains import create_retrieval_chain\n",
    "retrieval_chain=create_retrieval_chain(retriever,document_chain)\n"
   ]
  },
  {
   "cell_type": "code",
   "execution_count": 16,
   "id": "7a87d4c7",
   "metadata": {},
   "outputs": [
    {
     "data": {
      "text/plain": [
       "RunnableBinding(bound=RunnableAssign(mapper={\n",
       "  context: RunnableBinding(bound=RunnableLambda(lambda x: x['input'])\n",
       "           | VectorStoreRetriever(tags=['FAISS', 'OllamaEmbeddings'], vectorstore=<langchain_community.vectorstores.faiss.FAISS object at 0x0000016C3EC75D60>, search_kwargs={}), kwargs={}, config={'run_name': 'retrieve_documents'}, config_factories=[])\n",
       "})\n",
       "| RunnableAssign(mapper={\n",
       "    answer: RunnableBinding(bound=RunnableBinding(bound=RunnableAssign(mapper={\n",
       "              context: RunnableLambda(format_docs)\n",
       "            }), kwargs={}, config={'run_name': 'format_inputs'}, config_factories=[])\n",
       "            | ChatPromptTemplate(input_variables=['context'], input_types={}, partial_variables={}, messages=[HumanMessagePromptTemplate(prompt=PromptTemplate(input_variables=['context'], input_types={}, partial_variables={}, template='\\nAnswer the following question based only on the provided context:\\n<context>\\n{context}\\n</context>\\n\\n\\n'), additional_kwargs={})])\n",
       "            | AzureChatOpenAI(client=<openai.resources.chat.completions.completions.Completions object at 0x0000016C1EC71A00>, async_client=<openai.resources.chat.completions.completions.AsyncCompletions object at 0x0000016C1F15A990>, root_client=<openai.lib.azure.AzureOpenAI object at 0x0000016C1E935D30>, root_async_client=<openai.lib.azure.AsyncAzureOpenAI object at 0x0000016C1EC71A60>, temperature=0.9, model_kwargs={}, openai_api_key=SecretStr('**********'), disabled_params={'parallel_tool_calls': None}, azure_endpoint='https://omz2k-m7looa2k-japaneast.cognitiveservices.azure.com/openai/deployments/KN-gpt-4o/chat/completions?api-version=2024-08-01-preview', deployment_name='gpt-4o', openai_api_version='2024-08-01-preview', openai_api_type='azure')\n",
       "            | StrOutputParser(), kwargs={}, config={'run_name': 'stuff_documents_chain'}, config_factories=[])\n",
       "  }), kwargs={}, config={'run_name': 'retrieval_chain'}, config_factories=[])"
      ]
     },
     "execution_count": 16,
     "metadata": {},
     "output_type": "execute_result"
    }
   ],
   "source": [
    "retrieval_chain"
   ]
  },
  {
   "cell_type": "code",
   "execution_count": 17,
   "id": "176a87f6",
   "metadata": {},
   "outputs": [
    {
     "data": {
      "text/plain": [
       "'To build better habits, follow the framework outlined in the Four Laws of Behavior Change: cue, craving, response, and reward. These four steps help clarify what a habit is, how it operates, and how it can be improved. Focus on systems rather than single accomplishments to ensure long-term progress through continuous refinement and commitment to the process. Small, consistent improvements over time can yield remarkable results.'"
      ]
     },
     "execution_count": 17,
     "metadata": {},
     "output_type": "execute_result"
    }
   ],
   "source": [
    "## Get the response form the LLM\n",
    "response=retrieval_chain.invoke({\"input\":\"what ois the main learnign from this book\"})\n",
    "response['answer']"
   ]
  },
  {
   "cell_type": "code",
   "execution_count": 18,
   "id": "1b49700e",
   "metadata": {},
   "outputs": [
    {
     "data": {
      "text/plain": [
       "{'input': 'what ois the main learnign from this book',\n",
       " 'context': [Document(id='19f087bd-e802-4934-97b8-ecd3d5780727', metadata={'source': 'https://jamesclear.com/atomic-habits-summary', 'title': 'Atomic Habits Summary by James Clear', 'description': \"Read this Atomic Habits summary to glean 3 key lessons from the book and learn James Clear's simple rules for better habits.\", 'language': 'en-US'}, page_content='Your identity emerges out of your habits. Every action is a vote for the type of person you wish to become.\\nHow to build better habits in 4 simple steps\\nThis section of the Atomic Habits summary presents key points from the actionable strategies in the book, organized around a framework called the Four Laws of Behavior Change.\\xa0\\xa0\\xa0\\nThe process of building a habit can be divided into four simple steps: cue, craving, response, and reward.\\xa0\\nBreaking it down into these fundamental parts can help us understand what a habit is, how it works, and how to improve it.'),\n",
       "  Document(id='5e416b1b-746b-420e-bc33-0ac5171e1e7b', metadata={'source': 'https://jamesclear.com/atomic-habits-summary', 'title': 'Atomic Habits Summary by James Clear', 'description': \"Read this Atomic Habits summary to glean 3 key lessons from the book and learn James Clear's simple rules for better habits.\", 'language': 'en-US'}, page_content='“The purpose of setting goals is to win the game. The purpose of building systems is to continue playing the game. True long-term thinking is goal-less thinking. It’s not about any single accomplishment. It is about the cycle of endless refinement and continuous improvement. Ultimately, it is your commitment to the process that will determine your progress.”\\n– Atomic Habits, page 27\\n\\nYou can browse more popular Atomic Habits quotes here.\\xa0\\nRead More\\nIf you enjoyed this Atomic Habits summary, please consider buying the book.\\nPacked with self-improvement strategies, Atomic Habits will teach you how to make the small changes that will transform your habits and deliver remarkable results.\\n\\n\\n\\nAtomic Habits\\n\\nBuy the book:\\nPrint Kindle Audible \\nOr, learn more about Atomic Habits.\\n\\n\\n\\n\\n\\n\\n30 Days to Better Habits: A simple step-by-step guide for forming habits that stick'),\n",
       "  Document(id='8638cb3b-5773-44a7-aebd-85a77b32ba91', metadata={'source': 'https://jamesclear.com/atomic-habits-summary', 'title': 'Atomic Habits Summary by James Clear', 'description': \"Read this Atomic Habits summary to glean 3 key lessons from the book and learn James Clear's simple rules for better habits.\", 'language': 'en-US'}, page_content='Atomic Habits is a #1 New York Times bestseller and the highest-rated habits book on Amazon (4.8 out of 5 stars with 100,000+ reviews). Get your copy here.\\nAtomic Habits Summary\\xa0\\n3 Key Lessons from Atomic Habits\\nThis section of the Atomic Habits summary presents key points from three of the core themes of the book.\\xa0\\nLesson 1: Small habits make a big difference\\nIt is so easy to overestimate the importance of one defining moment and underestimate the value of making small improvements on a daily basis.'),\n",
       "  Document(id='0100c6a9-a1c9-48ef-966e-4c6edc488f54', metadata={'source': 'https://jamesclear.com/atomic-habits-summary', 'title': 'Atomic Habits Summary by James Clear', 'description': \"Read this Atomic Habits summary to glean 3 key lessons from the book and learn James Clear's simple rules for better habits.\", 'language': 'en-US'}, page_content='Atomic Habits\\n\\nBuy the book:\\nPrint Kindle Audible \\nOr, learn more about Atomic Habits.\\n\\n\\n\\n\\n\\n\\n30 Days to Better Habits: A simple step-by-step guide for forming habits that stick\\n\\n\\nTake the guesswork out of habit-building. 11 email lessons walk you through the first 30 days of a habit step-by-step, so you know exactly what to do.\\nGet the tools and strategies you need to take action. The course includes a 20-page PDF workbook (including templates and cheatsheets), plus new examples and applications that you can’t find in Atomic Habits.\\xa0\\nLearn a framework that works for any habit. You can use this course to build any good habit – from getting fit, to saving for an early retirement, to daily meditation.\\n\\n\\n\\n\\n\\n\\nEnroll in the free email course and get your first lesson today\\n\\nYou will get one short email every three days for a month. You can unsubscribe any time.\\n\\n\\n\\n\\n\\n\\n\\n\\n\\n\\n\\n\\n\\n\\n\\n\\n\\n\\n\\n\\n\\n\\n\\n\\n\\n\\n\\n\\n                                Atomic Habits')],\n",
       " 'answer': 'To build better habits, follow the framework outlined in the Four Laws of Behavior Change: cue, craving, response, and reward. These four steps help clarify what a habit is, how it operates, and how it can be improved. Focus on systems rather than single accomplishments to ensure long-term progress through continuous refinement and commitment to the process. Small, consistent improvements over time can yield remarkable results.'}"
      ]
     },
     "execution_count": 18,
     "metadata": {},
     "output_type": "execute_result"
    }
   ],
   "source": [
    "response"
   ]
  },
  {
   "cell_type": "code",
   "execution_count": 19,
   "id": "2af1b36c",
   "metadata": {},
   "outputs": [
    {
     "data": {
      "text/plain": [
       "[Document(id='19f087bd-e802-4934-97b8-ecd3d5780727', metadata={'source': 'https://jamesclear.com/atomic-habits-summary', 'title': 'Atomic Habits Summary by James Clear', 'description': \"Read this Atomic Habits summary to glean 3 key lessons from the book and learn James Clear's simple rules for better habits.\", 'language': 'en-US'}, page_content='Your identity emerges out of your habits. Every action is a vote for the type of person you wish to become.\\nHow to build better habits in 4 simple steps\\nThis section of the Atomic Habits summary presents key points from the actionable strategies in the book, organized around a framework called the Four Laws of Behavior Change.\\xa0\\xa0\\xa0\\nThe process of building a habit can be divided into four simple steps: cue, craving, response, and reward.\\xa0\\nBreaking it down into these fundamental parts can help us understand what a habit is, how it works, and how to improve it.'),\n",
       " Document(id='5e416b1b-746b-420e-bc33-0ac5171e1e7b', metadata={'source': 'https://jamesclear.com/atomic-habits-summary', 'title': 'Atomic Habits Summary by James Clear', 'description': \"Read this Atomic Habits summary to glean 3 key lessons from the book and learn James Clear's simple rules for better habits.\", 'language': 'en-US'}, page_content='“The purpose of setting goals is to win the game. The purpose of building systems is to continue playing the game. True long-term thinking is goal-less thinking. It’s not about any single accomplishment. It is about the cycle of endless refinement and continuous improvement. Ultimately, it is your commitment to the process that will determine your progress.”\\n– Atomic Habits, page 27\\n\\nYou can browse more popular Atomic Habits quotes here.\\xa0\\nRead More\\nIf you enjoyed this Atomic Habits summary, please consider buying the book.\\nPacked with self-improvement strategies, Atomic Habits will teach you how to make the small changes that will transform your habits and deliver remarkable results.\\n\\n\\n\\nAtomic Habits\\n\\nBuy the book:\\nPrint Kindle Audible \\nOr, learn more about Atomic Habits.\\n\\n\\n\\n\\n\\n\\n30 Days to Better Habits: A simple step-by-step guide for forming habits that stick'),\n",
       " Document(id='8638cb3b-5773-44a7-aebd-85a77b32ba91', metadata={'source': 'https://jamesclear.com/atomic-habits-summary', 'title': 'Atomic Habits Summary by James Clear', 'description': \"Read this Atomic Habits summary to glean 3 key lessons from the book and learn James Clear's simple rules for better habits.\", 'language': 'en-US'}, page_content='Atomic Habits is a #1 New York Times bestseller and the highest-rated habits book on Amazon (4.8 out of 5 stars with 100,000+ reviews). Get your copy here.\\nAtomic Habits Summary\\xa0\\n3 Key Lessons from Atomic Habits\\nThis section of the Atomic Habits summary presents key points from three of the core themes of the book.\\xa0\\nLesson 1: Small habits make a big difference\\nIt is so easy to overestimate the importance of one defining moment and underestimate the value of making small improvements on a daily basis.'),\n",
       " Document(id='0100c6a9-a1c9-48ef-966e-4c6edc488f54', metadata={'source': 'https://jamesclear.com/atomic-habits-summary', 'title': 'Atomic Habits Summary by James Clear', 'description': \"Read this Atomic Habits summary to glean 3 key lessons from the book and learn James Clear's simple rules for better habits.\", 'language': 'en-US'}, page_content='Atomic Habits\\n\\nBuy the book:\\nPrint Kindle Audible \\nOr, learn more about Atomic Habits.\\n\\n\\n\\n\\n\\n\\n30 Days to Better Habits: A simple step-by-step guide for forming habits that stick\\n\\n\\nTake the guesswork out of habit-building. 11 email lessons walk you through the first 30 days of a habit step-by-step, so you know exactly what to do.\\nGet the tools and strategies you need to take action. The course includes a 20-page PDF workbook (including templates and cheatsheets), plus new examples and applications that you can’t find in Atomic Habits.\\xa0\\nLearn a framework that works for any habit. You can use this course to build any good habit – from getting fit, to saving for an early retirement, to daily meditation.\\n\\n\\n\\n\\n\\n\\nEnroll in the free email course and get your first lesson today\\n\\nYou will get one short email every three days for a month. You can unsubscribe any time.\\n\\n\\n\\n\\n\\n\\n\\n\\n\\n\\n\\n\\n\\n\\n\\n\\n\\n\\n\\n\\n\\n\\n\\n\\n\\n\\n\\n\\n                                Atomic Habits')]"
      ]
     },
     "execution_count": 19,
     "metadata": {},
     "output_type": "execute_result"
    }
   ],
   "source": [
    "response['context']"
   ]
  },
  {
   "cell_type": "code",
   "execution_count": null,
   "id": "681c07de",
   "metadata": {},
   "outputs": [],
   "source": []
  }
 ],
 "metadata": {
  "kernelspec": {
   "display_name": "env_genai",
   "language": "python",
   "name": "python3"
  },
  "language_info": {
   "codemirror_mode": {
    "name": "ipython",
    "version": 3
   },
   "file_extension": ".py",
   "mimetype": "text/x-python",
   "name": "python",
   "nbconvert_exporter": "python",
   "pygments_lexer": "ipython3",
   "version": "3.12.4"
  }
 },
 "nbformat": 4,
 "nbformat_minor": 5
}
