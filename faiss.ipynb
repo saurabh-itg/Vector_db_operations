{
 "cells": [
  {
   "cell_type": "code",
   "execution_count": 2,
   "id": "68788f07",
   "metadata": {},
   "outputs": [
    {
     "name": "stdout",
     "output_type": "stream",
     "text": [
      "A Tryst With Destiny\n",
      "Indian Prime Minister Jawaharlal Nehru's Inaugural Address\n",
      "14 August 1947\n",
      "Long years ago we made a tryst with destiny, and now the time comes when we shall redeem our\n",
      "pledge, not wholly or in full measure, but very substantially. At the stroke of the midnight hour,\n",
      "when the world sleeps, India will awake to life and freedom. A moment comes, which comes but\n",
      "rarely in history, when we step out from the old to the new, when an age ends, and when the soul of\n",
      "a nation, long suppressed, finds utterance. It is fitting that at this solemn moment, we take the\n",
      "pledge of dedication to the service of India and her people and to the still larger cause of humanity.\n",
      "At the dawn of history, India started on her unending quest, and trackless centuries are filled with\n",
      "her striving and grandeur of her success and failures. Through good and ill fortune alike, she has\n",
      "never lost sight of that quest, forgotten the ideals which gave her strength. We end today a period of\n",
      "misfortunes and India discovers herself again. The achievement we celebrate today is but a step, an\n",
      "opening of opportunity to the greater triumphs and achievements that await us. Are we brave\n",
      "enough and wise enough to grasp this opportunity and accept the challenge of the future?\n",
      "Freedom and power bring responsibility. The responsibility rests upon this Assembly, a sovereign\n",
      "body representing the sovereign people of India. Before the birth of freedom, we have endured all\n",
      "the pains of labour and our hearts are heavy with the memory of this sorrrow. Some of those pains\n",
      "continue even now. Nevertheless, the past is over and it is the future that beckons us now.\n",
      "That future is not one of ease or resting but of incessant striving so that we may fulfill the pledges\n",
      "we have so often taken and the one we shall take today. The service of India means, the service of\n",
      "the millions who suffer. It means the ending of poverty and ignorance and poverty and disease and\n",
      "inequality of opportunity. The ambition of the greatest men of our generation has been to wipe\n",
      "every tear from every eye. That may be beyond us, but as long as there are tears and suffering, so\n",
      "long our work will not be over.\n",
      "And so we have to labour and to work, and to work hard, to give reality to our dreams. Those\n",
      "dreams are for India, but they are also for the world, for all the nations and peoples are too closely\n",
      "knit together today for any one of them to imagine that it can live apart. Peace is said to be\n",
      "indivisible, so is freedom, so is prosperity now, and also is disaster in this one world that can no\n",
      "longer be split into isolated fragments.\n",
      "To the people of India, whose representatives we are, we make an appeal to join us with faith and\n",
      "confidence in this great adventure. This is no time for petty and destructive criticism, no time for illwill or blaming others. We have to build the noble mansion of free India where all her children may\n",
      "dwell.\n",
      "The appointed day has come -the day appointed by destiny- and India stands forth again, after long\n",
      "slumber and struggle, awake, vital, free and independent. The past clings on to us still in some\n",
      "measure and we have to do much before we redeem the pledges we have so often taken.\n",
      "Yet the turning-point is past, and history begins anew for us, the history which we shall live and act\n",
      "and others will write about.\n",
      "It is a fateful moment for us in India, for all Asia and for the world. A new star rises, the star of\n",
      "freedom in the East, a new hope comes into being, a vision long cherished materializes. May the\n",
      "star never set and that hope never be betrayed!\n",
      "We rejoice in that freedom, even though clouds surround us, and many of our people are sorrowstricken and difficult problems encompass us. But freedom brings responsibilities and burdens and\n",
      "we have to face them in the spirit of a free and disciplined people.\n",
      "On this day our first thoughts go to the architect of this freedom, the Father of our Nation, who,\n",
      "embodying the old spirit of India, held aloft the torch of freedom and lighted up the darkness that\n",
      "surrounded us. We have often been unworthy followers of his and have strayed from his message,\n",
      "but not only we but succeeding generations will remember this message and bear the imprint in\n",
      "their hearts of this great son of India, magnificent in his faith and strength and courage and\n",
      "humility. We shall never allow that torch of freedom to be blown out, however high the wind or\n",
      "stormy the tempest.\n",
      "Our next thoughts must be of the unknown volunteers and soldiers of freedom who, without praise\n",
      "or reward, have served India even unto death.\n",
      "We think also of our brothers and sisters who have been cut off from us by political boundaries and\n",
      "who unhappily cannot share at present in the freedom that has come. They are of us and will remain\n",
      "of us whatever may happen, and we shall be sharers in their good [or] ill fortune alike.\n",
      "The future beckons to us. Whither do we go and what shall be our endeavour? To bring freedom\n",
      "and opportunity to the common man, to the peasants and workers of India; to fight and end poverty\n",
      "and ignorance and disease; to build up a prosperous, democratic and progressive nation, and to\n",
      "create social, economic and political institutions which will ensure justice and fullness of life to\n",
      "every man and woman.\n",
      "We have hard work ahead. There is no resting for any one of us till we redeem our pledge in full,\n",
      "till we make all the people of India what destiny intended them to be. We are citizens of a great\n",
      "country on the verge of bold advance, and we have to live up to that high standard. All of us, to\n",
      "whatever religion we may belong, are equally the children of India with equal rights, privileges and\n",
      "obligations. We cannot encourage communalism or narrow-mindedness, for no nation can be great\n",
      "whose people are narrow in thought or in action.\n",
      "To the nations and peoples of the world we send greetings and pledge ourselves to cooperate with\n",
      "them in furthering peace, freedom and democracy.\n",
      "And to India, our much-loved motherland, the ancient, the eternal and the ever-new, we pay our\n",
      "reverent homage and we bind ourselves afresh to her service.\n",
      "\n",
      "{'source': 'speech.txt'}\n"
     ]
    }
   ],
   "source": [
    "from langchain_community.document_loaders import TextLoader\n",
    "\n",
    "# Instantiate the TextLoader with the file path\n",
    "loader = TextLoader(\"speech.txt\")\n",
    "\n",
    "# Load the documents\n",
    "documents = loader.load()\n",
    "\n",
    "# Print the content of the first document (for demonstration)\n",
    "if documents:\n",
    "    print(documents[0].page_content)\n",
    "    print(documents[0].metadata)"
   ]
  },
  {
   "cell_type": "code",
   "execution_count": null,
   "id": "77486962",
   "metadata": {},
   "outputs": [],
   "source": [
    "# # for pdf files\n",
    "# from langchain_community.document_loaders import DirectoryLoader, PyPDFLoader\n",
    "\n",
    "# # Instantiate the DirectoryLoader, specifying the directory and the loader class for PDFs\n",
    "# loader = DirectoryLoader(\"path/to/your/pdf_directory\", glob=\"**/*.pdf\", loader_cls=PyPDFLoader)\n",
    "\n",
    "# # Load the documents\n",
    "# documents = loader.load()\n",
    "\n",
    "# # Print the number of loaded documents\n",
    "# print(f\"Loaded {len(documents)} documents.\")"
   ]
  },
  {
   "cell_type": "code",
   "execution_count": 3,
   "id": "99b534b3",
   "metadata": {},
   "outputs": [],
   "source": [
    "# chunk the data \n",
    "from langchain.text_splitter import RecursiveCharacterTextSplitter \n",
    "text_splitter = RecursiveCharacterTextSplitter(\n",
    "    chunk_size=500,  # Adjust as needed\n",
    "    chunk_overlap=50,  # Adjust as needed\n",
    "    separators=[\"\\n\\n\", \"\\n\", \". \", \" \", \"\"] # Customize separators if necessary\n",
    ")"
   ]
  },
  {
   "cell_type": "code",
   "execution_count": 4,
   "id": "a189eede",
   "metadata": {},
   "outputs": [
    {
     "data": {
      "text/plain": [
       "<langchain_text_splitters.character.RecursiveCharacterTextSplitter at 0x273d5f16030>"
      ]
     },
     "execution_count": 4,
     "metadata": {},
     "output_type": "execute_result"
    }
   ],
   "source": [
    "text_splitter"
   ]
  },
  {
   "cell_type": "code",
   "execution_count": 5,
   "id": "03b072ad",
   "metadata": {},
   "outputs": [],
   "source": [
    "chunks = text_splitter.split_documents(documents)\n"
   ]
  },
  {
   "cell_type": "code",
   "execution_count": 7,
   "id": "63f66748",
   "metadata": {},
   "outputs": [
    {
     "data": {
      "text/plain": [
       "14"
      ]
     },
     "execution_count": 7,
     "metadata": {},
     "output_type": "execute_result"
    }
   ],
   "source": [
    "len(chunks)"
   ]
  },
  {
   "cell_type": "code",
   "execution_count": 8,
   "id": "5cee72be",
   "metadata": {},
   "outputs": [
    {
     "name": "stdout",
     "output_type": "stream",
     "text": [
      "Chunk 1:\n",
      "A Tryst With Destiny\n",
      "Indian Prime Minister Jawaharlal Nehru's Inaugural Address\n",
      "14 August 1947\n",
      "Long years ago we made a tryst with destiny, and now the time comes when we shall redeem our\n",
      "pledge, not wholly or in full measure, but very substantially. At the stroke of the midnight hour,\n",
      "when the world sleeps, India will awake to life and freedom. A moment comes, which comes but\n",
      "rarely in history, when we step out from the old to the new, when an age ends, and when the soul of\n",
      "\n",
      "Chunk 2:\n",
      "a nation, long suppressed, finds utterance. It is fitting that at this solemn moment, we take the\n",
      "pledge of dedication to the service of India and her people and to the still larger cause of humanity.\n",
      "At the dawn of history, India started on her unending quest, and trackless centuries are filled with\n",
      "her striving and grandeur of her success and failures. Through good and ill fortune alike, she has\n",
      "\n",
      "Chunk 3:\n",
      "never lost sight of that quest, forgotten the ideals which gave her strength. We end today a period of\n",
      "misfortunes and India discovers herself again. The achievement we celebrate today is but a step, an\n",
      "opening of opportunity to the greater triumphs and achievements that await us. Are we brave\n",
      "enough and wise enough to grasp this opportunity and accept the challenge of the future?\n",
      "Freedom and power bring responsibility. The responsibility rests upon this Assembly, a sovereign\n",
      "\n",
      "Chunk 4:\n",
      "body representing the sovereign people of India. Before the birth of freedom, we have endured all\n",
      "the pains of labour and our hearts are heavy with the memory of this sorrrow. Some of those pains\n",
      "continue even now. Nevertheless, the past is over and it is the future that beckons us now.\n",
      "That future is not one of ease or resting but of incessant striving so that we may fulfill the pledges\n",
      "we have so often taken and the one we shall take today. The service of India means, the service of\n",
      "\n",
      "Chunk 5:\n",
      "the millions who suffer. It means the ending of poverty and ignorance and poverty and disease and\n",
      "inequality of opportunity. The ambition of the greatest men of our generation has been to wipe\n",
      "every tear from every eye. That may be beyond us, but as long as there are tears and suffering, so\n",
      "long our work will not be over.\n",
      "And so we have to labour and to work, and to work hard, to give reality to our dreams. Those\n",
      "\n",
      "Chunk 6:\n",
      "dreams are for India, but they are also for the world, for all the nations and peoples are too closely\n",
      "knit together today for any one of them to imagine that it can live apart. Peace is said to be\n",
      "indivisible, so is freedom, so is prosperity now, and also is disaster in this one world that can no\n",
      "longer be split into isolated fragments.\n",
      "To the people of India, whose representatives we are, we make an appeal to join us with faith and\n",
      "\n",
      "Chunk 7:\n",
      "confidence in this great adventure. This is no time for petty and destructive criticism, no time for illwill or blaming others. We have to build the noble mansion of free India where all her children may\n",
      "dwell.\n",
      "The appointed day has come -the day appointed by destiny- and India stands forth again, after long\n",
      "slumber and struggle, awake, vital, free and independent. The past clings on to us still in some\n",
      "measure and we have to do much before we redeem the pledges we have so often taken.\n",
      "\n",
      "Chunk 8:\n",
      "Yet the turning-point is past, and history begins anew for us, the history which we shall live and act\n",
      "and others will write about.\n",
      "It is a fateful moment for us in India, for all Asia and for the world. A new star rises, the star of\n",
      "freedom in the East, a new hope comes into being, a vision long cherished materializes. May the\n",
      "star never set and that hope never be betrayed!\n",
      "\n",
      "Chunk 9:\n",
      "star never set and that hope never be betrayed!\n",
      "We rejoice in that freedom, even though clouds surround us, and many of our people are sorrowstricken and difficult problems encompass us. But freedom brings responsibilities and burdens and\n",
      "we have to face them in the spirit of a free and disciplined people.\n",
      "On this day our first thoughts go to the architect of this freedom, the Father of our Nation, who,\n",
      "\n",
      "Chunk 10:\n",
      "embodying the old spirit of India, held aloft the torch of freedom and lighted up the darkness that\n",
      "surrounded us. We have often been unworthy followers of his and have strayed from his message,\n",
      "but not only we but succeeding generations will remember this message and bear the imprint in\n",
      "their hearts of this great son of India, magnificent in his faith and strength and courage and\n",
      "humility. We shall never allow that torch of freedom to be blown out, however high the wind or\n",
      "stormy the tempest.\n",
      "\n",
      "Chunk 11:\n",
      "stormy the tempest.\n",
      "Our next thoughts must be of the unknown volunteers and soldiers of freedom who, without praise\n",
      "or reward, have served India even unto death.\n",
      "We think also of our brothers and sisters who have been cut off from us by political boundaries and\n",
      "who unhappily cannot share at present in the freedom that has come. They are of us and will remain\n",
      "of us whatever may happen, and we shall be sharers in their good [or] ill fortune alike.\n",
      "\n",
      "Chunk 12:\n",
      "The future beckons to us. Whither do we go and what shall be our endeavour? To bring freedom\n",
      "and opportunity to the common man, to the peasants and workers of India; to fight and end poverty\n",
      "and ignorance and disease; to build up a prosperous, democratic and progressive nation, and to\n",
      "create social, economic and political institutions which will ensure justice and fullness of life to\n",
      "every man and woman.\n",
      "\n",
      "Chunk 13:\n",
      "every man and woman.\n",
      "We have hard work ahead. There is no resting for any one of us till we redeem our pledge in full,\n",
      "till we make all the people of India what destiny intended them to be. We are citizens of a great\n",
      "country on the verge of bold advance, and we have to live up to that high standard. All of us, to\n",
      "whatever religion we may belong, are equally the children of India with equal rights, privileges and\n",
      "\n",
      "Chunk 14:\n",
      "obligations. We cannot encourage communalism or narrow-mindedness, for no nation can be great\n",
      "whose people are narrow in thought or in action.\n",
      "To the nations and peoples of the world we send greetings and pledge ourselves to cooperate with\n",
      "them in furthering peace, freedom and democracy.\n",
      "And to India, our much-loved motherland, the ancient, the eternal and the ever-new, we pay our\n",
      "reverent homage and we bind ourselves afresh to her service.\n",
      "\n"
     ]
    }
   ],
   "source": [
    "for i, chunk in enumerate(chunks):\n",
    "    print(f\"Chunk {i+1}:\\n{chunk.page_content}\\n\")\n",
    "    # You can also access metadata if needed\n",
    "    # print(chunk.metadata) \n"
   ]
  },
  {
   "cell_type": "code",
   "execution_count": 9,
   "id": "c86e1e3b",
   "metadata": {},
   "outputs": [
    {
     "name": "stderr",
     "output_type": "stream",
     "text": [
      "C:\\Users\\OFA2KOR\\AppData\\Local\\Temp\\ipykernel_17204\\2539210841.py:8: LangChainDeprecationWarning: The class `OllamaEmbeddings` was deprecated in LangChain 0.3.1 and will be removed in 1.0.0. An updated version of the class exists in the :class:`~langchain-ollama package and should be used instead. To use it run `pip install -U :class:`~langchain-ollama` and import as `from :class:`~langchain_ollama import OllamaEmbeddings``.\n",
      "  embeddings = OllamaEmbeddings(model=\"nomic-embed-text\")\n"
     ]
    }
   ],
   "source": [
    "from langchain_community.embeddings import OllamaEmbeddings\n",
    "from langchain_community.vectorstores import FAISS\n",
    "\n",
    "# Assuming 'chunks' is your list of Document objects from the previous step (loading and splitting)\n",
    "\n",
    "# Initialize OllamaEmbeddings\n",
    "# Make sure the 'model' parameter matches the name of the Ollama model you pulled\n",
    "embeddings = OllamaEmbeddings(model=\"nomic-embed-text\") \n",
    "\n",
    "# Create the FAISS vector database\n",
    "vectorstore = FAISS.from_documents(chunks, embeddings) \n"
   ]
  },
  {
   "cell_type": "code",
   "execution_count": 10,
   "id": "e389d587",
   "metadata": {},
   "outputs": [
    {
     "data": {
      "text/plain": [
       "<langchain_community.vectorstores.faiss.FAISS at 0x273f4f26c30>"
      ]
     },
     "execution_count": 10,
     "metadata": {},
     "output_type": "execute_result"
    }
   ],
   "source": [
    "vectorstore"
   ]
  },
  {
   "cell_type": "code",
   "execution_count": 11,
   "id": "4f4c6314",
   "metadata": {},
   "outputs": [
    {
     "name": "stdout",
     "output_type": "stream",
     "text": [
      "FAISS vector store saved to: faiss_index_local_ollama\n"
     ]
    }
   ],
   "source": [
    "db_path = \"faiss_index_local_ollama\" \n",
    "vectorstore.save_local(db_path)\n",
    "print(f\"FAISS vector store saved to: {db_path}\")\n"
   ]
  },
  {
   "cell_type": "code",
   "execution_count": 12,
   "id": "6c514e31",
   "metadata": {},
   "outputs": [
    {
     "name": "stdout",
     "output_type": "stream",
     "text": [
      "FAISS vector store loaded from: faiss_index_local_ollama\n"
     ]
    }
   ],
   "source": [
    "from langchain_community.vectorstores import FAISS\n",
    "from langchain_community.embeddings import OllamaEmbeddings # Import again for loading\n",
    "\n",
    "# Re-initialize the same embeddings you used to create the store\n",
    "embeddings = OllamaEmbeddings(model=\"nomic-embed-text\") \n",
    "\n",
    "new_vectorstore = FAISS.load_local(\n",
    "    db_path, \n",
    "    embeddings, \n",
    "    allow_dangerous_deserialization=True # Necessary for loading the pickle file\n",
    ")\n",
    "print(f\"FAISS vector store loaded from: {db_path}\")\n"
   ]
  },
  {
   "cell_type": "code",
   "execution_count": 13,
   "id": "b24defb8",
   "metadata": {},
   "outputs": [
    {
     "name": "stdout",
     "output_type": "stream",
     "text": [
      "\n",
      "Query: What are the foundation of nation?\n",
      "Top 3 similar chunks:\n",
      "Chunk 1:\n",
      "a nation, long suppressed, finds utterance. It is fitting that at this solemn moment, we take the\n",
      "pledge of dedication to the service of India and her people and to the still larger cause of humanity.\n",
      "At the dawn of history, India started on her unending quest, and trackless centuries are filled with\n",
      "her striving and grandeur of her success and failures. Through good and ill fortune alike, she has\n",
      "Metadata: {'source': 'speech.txt'}\n",
      "\n",
      "Chunk 2:\n",
      "star never set and that hope never be betrayed!\n",
      "We rejoice in that freedom, even though clouds surround us, and many of our people are sorrowstricken and difficult problems encompass us. But freedom brings responsibilities and burdens and\n",
      "we have to face them in the spirit of a free and disciplined people.\n",
      "On this day our first thoughts go to the architect of this freedom, the Father of our Nation, who,\n",
      "Metadata: {'source': 'speech.txt'}\n",
      "\n",
      "Chunk 3:\n",
      "obligations. We cannot encourage communalism or narrow-mindedness, for no nation can be great\n",
      "whose people are narrow in thought or in action.\n",
      "To the nations and peoples of the world we send greetings and pledge ourselves to cooperate with\n",
      "them in furthering peace, freedom and democracy.\n",
      "And to India, our much-loved motherland, the ancient, the eternal and the ever-new, we pay our\n",
      "reverent homage and we bind ourselves afresh to her service.\n",
      "Metadata: {'source': 'speech.txt'}\n",
      "\n"
     ]
    }
   ],
   "source": [
    "query_text = \"What are the foundation of nation?\"\n",
    "k = 3  # Number of similar chunks to retrieve\n",
    "\n",
    "results = new_vectorstore.similarity_search(query_text, k=k) \n",
    "\n",
    "print(f\"\\nQuery: {query_text}\")\n",
    "print(f\"Top {k} similar chunks:\")\n",
    "for i, doc in enumerate(results):\n",
    "    print(f\"Chunk {i+1}:\")\n",
    "    print(doc.page_content)\n",
    "    print(f\"Metadata: {doc.metadata}\\n\")\n"
   ]
  },
  {
   "cell_type": "code",
   "execution_count": null,
   "id": "22703bd8",
   "metadata": {},
   "outputs": [],
   "source": []
  }
 ],
 "metadata": {
  "kernelspec": {
   "display_name": "env_genai",
   "language": "python",
   "name": "python3"
  },
  "language_info": {
   "codemirror_mode": {
    "name": "ipython",
    "version": 3
   },
   "file_extension": ".py",
   "mimetype": "text/x-python",
   "name": "python",
   "nbconvert_exporter": "python",
   "pygments_lexer": "ipython3",
   "version": "3.12.4"
  }
 },
 "nbformat": 4,
 "nbformat_minor": 5
}
